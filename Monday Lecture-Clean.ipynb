{
 "cells": [
  {
   "cell_type": "markdown",
   "metadata": {},
   "source": [
    "# Monday"
   ]
  },
  {
   "cell_type": "markdown",
   "metadata": {},
   "source": [
    "What do we need to learn today?\n",
    "\n",
    "Lots of things! Soooo many things.\n",
    "\n",
    "I'm trying to think of where is the best place to start.  I like the idea of talking about lists, but strings you've already seen, so we'll start with strings."
   ]
  },
  {
   "cell_type": "markdown",
   "metadata": {},
   "source": [
    "# Strings"
   ]
  },
  {
   "cell_type": "code",
   "execution_count": null,
   "metadata": {
    "collapsed": true
   },
   "outputs": [],
   "source": [
    "test = \"My first string\""
   ]
  },
  {
   "cell_type": "markdown",
   "metadata": {},
   "source": [
    "How would I extract the first letter from that string?\n",
    "\n",
    "There are multiple ways to do this, but I'm looking for indexing answers.  Anybody?"
   ]
  },
  {
   "cell_type": "code",
   "execution_count": null,
   "metadata": {},
   "outputs": [],
   "source": [
    "test"
   ]
  },
  {
   "cell_type": "markdown",
   "metadata": {},
   "source": [
    "### note\n",
    "\n",
    "I should note that lots of people don't like the 0 index referring to the first character.  They want first to be 1st.  A wholly reasonable point of view.  The only contrary thing I can offer is an idea for forward slicing that someone presented to me once.  Instead of thinking about enumerating the positions, we can think of enumerating between the positions with how many characters/objects we have seen.  I'd have presented this idea initially, but it breaks down a but with backward slicing."
   ]
  },
  {
   "cell_type": "markdown",
   "metadata": {},
   "source": [
    "What if I wanted the second character?  What would that be?"
   ]
  },
  {
   "cell_type": "code",
   "execution_count": null,
   "metadata": {},
   "outputs": [],
   "source": [
    "test"
   ]
  },
  {
   "cell_type": "markdown",
   "metadata": {},
   "source": [
    "What about the last character?  What would be the code for that?  How would you get that?"
   ]
  },
  {
   "cell_type": "code",
   "execution_count": null,
   "metadata": {
    "collapsed": true
   },
   "outputs": [],
   "source": [
    "# Do you want to use length?  What does this return?\n",
    "len(test)\n",
    "\n",
    "# how could we use the length command to find the last element of our string?\n",
    "test[ ? ]"
   ]
  },
  {
   "cell_type": "code",
   "execution_count": null,
   "metadata": {},
   "outputs": [],
   "source": [
    "# Is there another way?\n",
    "test"
   ]
  },
  {
   "cell_type": "markdown",
   "metadata": {},
   "source": [
    "How about a third way?"
   ]
  },
  {
   "cell_type": "code",
   "execution_count": null,
   "metadata": {},
   "outputs": [],
   "source": [
    "# Honestly, I thought this up, and then couldn't come\n",
    "# up with it again.  If you think of something, send me\n",
    "# an email with your clever answer!\n",
    "test"
   ]
  },
  {
   "cell_type": "markdown",
   "metadata": {},
   "source": [
    "Ok.  Getting one character at a time is easy.  What if I want to get the first two characters?  How could we do that?  Can someone tell me how to do that with what we've been doing to this point?  (Can we do it with the plus sign)"
   ]
  },
  {
   "cell_type": "code",
   "execution_count": null,
   "metadata": {
    "collapsed": true
   },
   "outputs": [],
   "source": [
    "# Extracting two letters from our string with the plus sign?\n",
    "test + test"
   ]
  },
  {
   "cell_type": "markdown",
   "metadata": {},
   "source": [
    "Now, that's a perfectly valid way of going about things, but what if I have a string of DNA that's ... millions(?) of characters long?  If I want to grab the first 2000 characters, I'm certainly not going to peel off each character one at a time.  There is an extension of the bracket notation that lets us take multiple characters at a time."
   ]
  },
  {
   "cell_type": "code",
   "execution_count": null,
   "metadata": {},
   "outputs": [],
   "source": [
    "# Extract the first two letters of our string without adding two individual letters:\n",
    "# Some of you may know this.  It's a little generalization of the bracket notation.\n",
    "test[]"
   ]
  },
  {
   "cell_type": "markdown",
   "metadata": {},
   "source": [
    "The notion here being that you start with the character at the left position, and then you count up to the character at the right position, keeping everything but the upper boundary."
   ]
  },
  {
   "cell_type": "markdown",
   "metadata": {},
   "source": [
    "So, success!  We successfully grabbed the first two characters!  What if I wanted the second word in the string we're using: \"My first string\".  How would I grab the second word?"
   ]
  },
  {
   "cell_type": "code",
   "execution_count": null,
   "metadata": {},
   "outputs": [],
   "source": [
    "# what goes in the brackets to retrieve the second word?\n",
    "test[]"
   ]
  },
  {
   "cell_type": "markdown",
   "metadata": {},
   "source": [
    "How about the last word?  How would I extract the letters \"string\" from \"My first string\"?"
   ]
  },
  {
   "cell_type": "code",
   "execution_count": null,
   "metadata": {},
   "outputs": [],
   "source": [
    "# What goes in the brackets to retrieve the last word?\n",
    "test[]"
   ]
  },
  {
   "cell_type": "markdown",
   "metadata": {},
   "source": [
    "So far we've learned how to extract a single element from a string.  Then we generalized that notation to retrieve multiple elements from a string.  As it turns out, retrieving from the beginning or end of the string is common enough that there's a shortcut for retrieving a front or end section."
   ]
  },
  {
   "cell_type": "code",
   "execution_count": null,
   "metadata": {},
   "outputs": [],
   "source": [
    "# How do we retrieve the first two words of our string?\n",
    "test[ ]"
   ]
  },
  {
   "cell_type": "code",
   "execution_count": null,
   "metadata": {
    "collapsed": true
   },
   "outputs": [],
   "source": [
    "# How do we retrieve the last word of our string?\n",
    "test[ ]"
   ]
  },
  {
   "cell_type": "markdown",
   "metadata": {},
   "source": [
    "Ok, one more generalization of what we've been doing.  Suppose I don't want every letter of the string, but maybe I want every other element of the string?  How do I do that?  Or what if I was working with DNA and found I needed the reverse of my string of DNA, how would I get that?"
   ]
  },
  {
   "cell_type": "code",
   "execution_count": null,
   "metadata": {
    "collapsed": true
   },
   "outputs": [],
   "source": [
    "number_string = \"01234567890\"\n",
    "\n",
    "# Grab every other element.  I want the evens\n",
    "number_string[ ]"
   ]
  },
  {
   "cell_type": "code",
   "execution_count": null,
   "metadata": {
    "collapsed": true
   },
   "outputs": [],
   "source": [
    "# now give me just the odds\n",
    "number_string[ ]"
   ]
  },
  {
   "cell_type": "code",
   "execution_count": null,
   "metadata": {
    "collapsed": true
   },
   "outputs": [],
   "source": [
    "DNAstring = \"AACCGGTTACACACACACA\"\n",
    "\n",
    "# What could I type that would give me the reverse of this string?\n",
    "DNAstring[ ]"
   ]
  },
  {
   "cell_type": "markdown",
   "metadata": {},
   "source": [
    "Does that make sense to people?\n",
    "\n",
    "Next question.  How can we break these things?  I want to generate a syntax error.  How do I do it?  Thoughts?"
   ]
  },
  {
   "cell_type": "code",
   "execution_count": null,
   "metadata": {},
   "outputs": [],
   "source": [
    "# give me some indexing that you think will cause an error.  We've\n",
    "# successfully done a bunch of things, but can we break things?\n",
    "test[  ]"
   ]
  },
  {
   "cell_type": "code",
   "execution_count": null,
   "metadata": {
    "collapsed": true
   },
   "outputs": [],
   "source": [
    "# Turns out, breaking things with selecting one element is pretty\n",
    "# easy.  What about with slicing?  Can we break things with slicing?\n",
    "test[  ]"
   ]
  },
  {
   "cell_type": "markdown",
   "metadata": {},
   "source": [
    "#  If ?\n",
    "\n",
    "Let's switch gears for a bit.  A large part of programming is setting up your computer to execute different commands in different situations.  The if statement ends up being a really straightforward way of telling your computer what to do:"
   ]
  },
  {
   "cell_type": "code",
   "execution_count": null,
   "metadata": {},
   "outputs": [],
   "source": [
    "# What will this code do?\n",
    "test_condition = True\n",
    "\n",
    "if test_condition == True:\n",
    "    print(\"hi, mom\")\n",
    "else:\n",
    "    print(\"I should call home more often\")"
   ]
  },
  {
   "cell_type": "code",
   "execution_count": null,
   "metadata": {
    "collapsed": true
   },
   "outputs": [],
   "source": [
    "# The general first form of an if statment is:\n",
    "if (condition):\n",
    "    do some code if True\n",
    "else:\n",
    "    do some code if False\n",
    "    \n",
    "    \n",
    "    \n",
    "# The above works really well if you have a True/False condition,\n",
    "# or some other binary condition.  But, what do you do if you have\n",
    "# three different situations you need to switch between?  What\n",
    "# if you have four different conditions you need to switch between?\n",
    "\n",
    "if (condition1):\n",
    "    do some code if condition1 is True\n",
    "elif (condition2):\n",
    "    do some code if condition2 is True\n",
    "elif (condition3):\n",
    "    do some code if condition3 is True\n",
    "...\n",
    "else:\n",
    "    do some code if none of the conditions are met.\n",
    "    \n",
    "# If you have two conditions, the else is what runs if your\n",
    "# condition is fale\n",
    "    \n"
   ]
  },
  {
   "cell_type": "markdown",
   "metadata": {},
   "source": [
    "So, what are your questions?  I know there are questions.\n",
    "\n",
    "And, if there are no questions, there's quiz on this material!"
   ]
  },
  {
   "cell_type": "code",
   "execution_count": null,
   "metadata": {},
   "outputs": [],
   "source": [
    "# Ok, there is a quiz, but it's not graded, and it's group effort.\n",
    "# Actually, it's more of a puzzle.  Can you pick different values\n",
    "# for the variable num that will allow execute the different \n",
    "# print statements below.\n",
    "\n",
    "num = 42\n",
    "\n",
    "if num <= 0:\n",
    "    print(\"negative ... well, non-positive\")\n",
    "    \n",
    "elif num < 10:\n",
    "    print(\"positive, but less then ten\")\n",
    "    \n",
    "elif num > 140:\n",
    "    print(\"That's too many characters for a tweet!\")\n",
    "    \n",
    "elif num == 42:\n",
    "    print(\"you've ... stumbled on the answer.\")\n",
    "    \n",
    "elif type(num) != int:\n",
    "    print(\"Something (not an integer) between 10 and 140\")\n",
    "    \n",
    "else:\n",
    "    print(\"What else is left?  Just integers between 10 and 140 that aren't 42.\")"
   ]
  },
  {
   "cell_type": "markdown",
   "metadata": {},
   "source": [
    "How do people feel about the different logic statements above?  I know, no math is somewhat the promise, but I think (hope) this is all straightforward enough.  I was going to build lists of colors or phyla of animals, but I don't really know anything about colors or animals :-/."
   ]
  },
  {
   "cell_type": "code",
   "execution_count": null,
   "metadata": {
    "collapsed": true
   },
   "outputs": [],
   "source": [
    "# more complicated if statements:\n",
    "\n",
    "animal = (\"brown\",\"buffalo\")\n",
    "animal = (\"blue\",\"bird\")\n",
    "animal = (\"green\",\"lizard\")\n",
    "animal = (\"green\",\"fish\")\n",
    "animal = (\"gray\",\"elephant\")\n",
    "animal = (\"grey\",\"elephant\")\n",
    "animal = (\"gray\",\"goose\")\n",
    "\n",
    "\n",
    "\n",
    "if animal[0] in [\"brown\",\"blue\"]:\n",
    "    if animal[1] == \"buffalo\":\n",
    "        print(\"Buffalo buffalo Buffalo buffalo buffalo buffalo Buffalo buffalo\")\n",
    "    if animal[1] == \"bird\":\n",
    "        print(\"Some bluebirds have rose beige plumage\")\n",
    "        \n",
    "elif animal[0] == \"green\":\n",
    "    if animal[1] == \"lizard\":\n",
    "        print(\"Godzilla is my faorite lizard\")\n",
    "    else:\n",
    "        print(\"Where have you seen a green fish?\")\n",
    "        \n",
    "else:\n",
    "    if animal[0] == \"gray\" and animal[1] == \"elephant\":\n",
    "        print(\"You must be a North American!\")\n",
    "    elif animal[0] == \"grey\" and animal[1] == \"elephant\":\n",
    "        print(\"Do you like your earl grey tea, hot?\")\n",
    "    else:\n",
    "        print(\"Russian-American?  I don't know what's going on.\")\n"
   ]
  },
  {
   "cell_type": "markdown",
   "metadata": {},
   "source": [
    "Another quiz?"
   ]
  },
  {
   "cell_type": "code",
   "execution_count": null,
   "metadata": {
    "collapsed": true
   },
   "outputs": [],
   "source": [
    "# How can I set the following number to get each of the following print statements?\n",
    "num = \n",
    "\n",
    "if num > 41:\n",
    "    print(\"Positive\")\n",
    "elif num < 43:\n",
    "    print(\"Less than 43\")\n",
    "elif num == 42:\n",
    "    print(\"You found the answer!\")\n",
    "else:\n",
    "    print(\"I don't know what your number is\")\n"
   ]
  },
  {
   "cell_type": "markdown",
   "metadata": {},
   "source": [
    "Point being, be careful about how you set up your if statements.  If you make a decision too quickly, you may exclude code you want to run.  Maybe you make a decision that excludes cases you want to check.  I'm sure most of us will run into this with the homework."
   ]
  },
  {
   "cell_type": "markdown",
   "metadata": {},
   "source": [
    "One weird thing about if statements that I want to mention:"
   ]
  },
  {
   "cell_type": "code",
   "execution_count": null,
   "metadata": {},
   "outputs": [],
   "source": [
    "# What does this print out?\n",
    "if 5.5:\n",
    "    print(\"I called home yesterday!\")\n",
    "else:\n",
    "    print(\"Anybody have a birthday tomorrow?\")"
   ]
  },
  {
   "cell_type": "markdown",
   "metadata": {},
   "source": [
    "If statements, it turns out, will take more than just a Boolean True False.  They'll take a whole bunch of things."
   ]
  },
  {
   "cell_type": "code",
   "execution_count": null,
   "metadata": {},
   "outputs": [],
   "source": [
    "# give me a number\n",
    "num = 1.0\n",
    "if num:\n",
    "    print(\"not zero!\")\n",
    "else:\n",
    "    print(\"zero!\")"
   ]
  },
  {
   "cell_type": "code",
   "execution_count": null,
   "metadata": {},
   "outputs": [],
   "source": [
    "# give me a word\n",
    "string = \"yolo\"\n",
    "if string:\n",
    "    print(\"something\")\n",
    "else:\n",
    "    print(\"a veritable nothing\")"
   ]
  },
  {
   "cell_type": "code",
   "execution_count": null,
   "metadata": {},
   "outputs": [],
   "source": [
    "# give me a list!\n",
    "my_list = [\"red\",\"orange\",\"yellow\",\"blue\",\"green\",\"indigo\",\"violet\"]\n",
    "\n",
    "my_list = []\n",
    "\n",
    "if my_list:\n",
    "    print(\"You have colors\")\n",
    "else:\n",
    "    print(\"You have ... nothing!\")"
   ]
  },
  {
   "cell_type": "code",
   "execution_count": null,
   "metadata": {},
   "outputs": [],
   "source": [
    "# give me a ... dictionary?\n",
    "dictionary = {1:2,3:4}\n",
    "\n",
    "dictionary = {}\n",
    "\n",
    "if dictionary:\n",
    "    print(\"dictionary of things\")\n",
    "else:\n",
    "    print(\"an empty dictionary\")"
   ]
  },
  {
   "cell_type": "markdown",
   "metadata": {},
   "source": [
    "Takeaway?  You can use True/False for an if-statement, but lots of other types have things that \"evaluate\" to true and false.  The number zero is tantamount to fale.  The empty string.  The empty set.  The empty dictionary.  ... the things that are somehow synonymous with zero or nothing end up functioning as false in an if-statement, and the non-zero non-empty things function as true.\n",
    "\n",
    "I'm not encouraging you to taking advantage of this behavior, but want you to see it so you understand it when you eventually see code like this."
   ]
  },
  {
   "cell_type": "markdown",
   "metadata": {},
   "source": [
    "# lists\n",
    "\n",
    "Strings are nice.  We can set up a string by taking two quotes and then typing a bunch (or maybe just a little) stuff between them."
   ]
  },
  {
   "cell_type": "code",
   "execution_count": null,
   "metadata": {
    "collapsed": true
   },
   "outputs": [],
   "source": [
    "my_stuff = \"a bunch of word things.\"\n",
    "\n",
    "some_DNA = \"ACACAGTGTGCCGTGG\""
   ]
  },
  {
   "cell_type": "markdown",
   "metadata": {},
   "source": [
    "Maybe you like working with text, or maybe you're a biologist, but sometimes you want to work with other objects.  Enter, lists.  You create them much like you create strings.  Write down ... a list of things you want to keep a collection of, and then surround the list by brackets."
   ]
  },
  {
   "cell_type": "code",
   "execution_count": null,
   "metadata": {
    "collapsed": true
   },
   "outputs": [],
   "source": [
    "rainbow_colors = [\"red\",\"orange\",\"yellow\",\"green\",\"blue\",\"indigo\",\"violet\"]"
   ]
  },
  {
   "cell_type": "markdown",
   "metadata": {},
   "source": [
    "A first happy feature, lists can be indexed and sliced the same way strings can:"
   ]
  },
  {
   "cell_type": "code",
   "execution_count": null,
   "metadata": {},
   "outputs": [],
   "source": [
    "# How do I get every other color in my list?  You know this already!\n",
    "rainbow_colors[ ]"
   ]
  },
  {
   "cell_type": "code",
   "execution_count": null,
   "metadata": {
    "collapsed": true
   },
   "outputs": [],
   "source": [
    "# How do I get all the colors I didn't get above?\n",
    "rainbow_colors[ ]"
   ]
  },
  {
   "cell_type": "code",
   "execution_count": null,
   "metadata": {
    "collapsed": true
   },
   "outputs": [],
   "source": [
    "# How do I get the last color in the list?\n",
    "rainbow_colors[ ]"
   ]
  },
  {
   "cell_type": "code",
   "execution_count": null,
   "metadata": {
    "collapsed": true
   },
   "outputs": [],
   "source": [
    "# How do I get the colors in the reverse order?\n",
    "rainbow_colors[ ]"
   ]
  },
  {
   "cell_type": "markdown",
   "metadata": {},
   "source": [
    "Ok, we have some features that strings have.  What can lists do that strings can't do?\n",
    "\n",
    "Strings are immutable objects.  You can't change them \"in place.\"  Lists are mutable.  You *can* alter them in place. What do I mean by in place?"
   ]
  },
  {
   "cell_type": "code",
   "execution_count": null,
   "metadata": {
    "collapsed": true
   },
   "outputs": [],
   "source": [
    "my_string = \"abcd5\"\n",
    "\n",
    "# I goofed.  How do I fix this string to be the first 5 letters instead of\n",
    "# 4 letters and a number?\n",
    "\n",
    "my_string = "
   ]
  },
  {
   "cell_type": "markdown",
   "metadata": {},
   "source": [
    "So, that works, but it works by overwriting what my_string was to begin with.  The original content of the variable is discarded, and we start over with the newly proffered text.\n",
    "\n",
    "In contrast, with lists:"
   ]
  },
  {
   "cell_type": "code",
   "execution_count": null,
   "metadata": {},
   "outputs": [],
   "source": [
    "# What if I had messed up the colors:\n",
    "not_an_emo_rainbow = [\"red\",\"gray\",\"black\",\"green\",\"blue\",\"indigo\",\"violet\"]\n",
    "\n",
    "# How can I change not_an_emo_rainbow so that it has the normal rainbow colors?\n",
    "# If we were using something immutable like strings, we'd have to start from scratch:\n",
    "# not_an_emo_rainbow = [\"red\",\"orange\",\"yellow\",\"green\",\"blue\",\"indigo\",\"violet\"]\n",
    "\n",
    "# But if we're using something mutable like a list, we can change things in place:\n",
    "# ideas on how we can fix one thing?\n",
    "not_an_emo_rainbow[1]"
   ]
  },
  {
   "cell_type": "code",
   "execution_count": null,
   "metadata": {},
   "outputs": [],
   "source": [
    "not_an_emo_rainbow[1] = \"orange\"\n",
    "not_an_emo_rainbow[2] = \"yellow\"\n",
    "not_an_emo_rainbow"
   ]
  },
  {
   "cell_type": "code",
   "execution_count": null,
   "metadata": {
    "collapsed": true
   },
   "outputs": [],
   "source": [
    "# Just as we can access more than one element at a time,\n",
    "# we can fix more than one element at a time:\n",
    "\n",
    "# assuming the original blunder;\n",
    "not_an_emo_rainbow = [\"red\",\"gray\",\"black\",\"green\",\"blue\",\"indigo\",\"violet\"]\n",
    "\n",
    "# how do I fix this in one line?\n",
    "not_an_emo_rainbow\n",
    "\n",
    "# check that we did it right\n",
    "not_an_emo_rainbow"
   ]
  },
  {
   "cell_type": "markdown",
   "metadata": {},
   "source": [
    "And of course, there's at least one wrong way to do what we just did:"
   ]
  },
  {
   "cell_type": "code",
   "execution_count": null,
   "metadata": {},
   "outputs": [],
   "source": [
    "# assuming the original blunder;\n",
    "not_an_emo_rainbow = [\"red\",\"gray\",\"black\",\"green\",\"blue\",\"indigo\",\"violet\"]\n",
    "\n",
    "not_an_emo_rainbow[1] = [\"orange\",\"yellow\"]\n",
    "not_an_emo_rainbow"
   ]
  },
  {
   "cell_type": "code",
   "execution_count": null,
   "metadata": {
    "collapsed": true
   },
   "outputs": [],
   "source": [
    "# how do I fix the mistake?"
   ]
  },
  {
   "cell_type": "markdown",
   "metadata": {},
   "source": [
    "Another cool thing about lists, you can add to them:"
   ]
  },
  {
   "cell_type": "code",
   "execution_count": null,
   "metadata": {
    "collapsed": true
   },
   "outputs": [],
   "source": [
    "favorite_colors = [\"yellow\"]"
   ]
  },
  {
   "cell_type": "markdown",
   "metadata": {},
   "source": [
    "Anyone else have a favorite color?"
   ]
  },
  {
   "cell_type": "code",
   "execution_count": null,
   "metadata": {},
   "outputs": [],
   "source": [
    "favorite_colors.append(\" *** your favorite color goes here! *** \")\n",
    "\n",
    "# let's see if we successfully updated our color list\n",
    "favorite_colors"
   ]
  },
  {
   "cell_type": "code",
   "execution_count": null,
   "metadata": {
    "collapsed": true
   },
   "outputs": [],
   "source": [
    "# If we want to add a bunch of colors at once, there's a command for that.\n",
    "# instead of appending just an object, or color string in this case,\n",
    "# we can instead use .extend to amalgamate an entire list of colors.\n",
    "favorite_colors.extend([\"puce\",\"olive\",\"tan\",\"eggshell\"])"
   ]
  },
  {
   "cell_type": "markdown",
   "metadata": {},
   "source": [
    "What's the takeaway?  Immutable vs. mutable.  You can change things that are mutable.  Also, I wanted you to see lists and how they worked since they'll be popping up later in this lecture, as well as in the homework."
   ]
  },
  {
   "cell_type": "markdown",
   "metadata": {},
   "source": [
    "# Almost for-loops\n",
    "\n",
    "There's one more thing I wanted to introduce before we talk about for loops.  The in operator."
   ]
  },
  {
   "cell_type": "code",
   "execution_count": null,
   "metadata": {},
   "outputs": [],
   "source": [
    "# is there an I in team?\n",
    "\"I\" in \"team\"\n"
   ]
  },
  {
   "cell_type": "code",
   "execution_count": null,
   "metadata": {
    "collapsed": true
   },
   "outputs": [],
   "source": [
    "# is there an I in diva?\n",
    "print(\"I\" in \"diva\")"
   ]
  },
  {
   "cell_type": "code",
   "execution_count": null,
   "metadata": {},
   "outputs": [],
   "source": [
    "# well, maybe an \"i\"?\n",
    "print(\"i\" in \"diva\")"
   ]
  },
  {
   "cell_type": "code",
   "execution_count": null,
   "metadata": {},
   "outputs": [],
   "source": [
    "# can we check for longer substrings?\n",
    "print(\"me\" in \"assume\")\n",
    "print(\"im\" in \"time\")\n",
    "print(\"affirm\" in \"affirmation\")"
   ]
  },
  {
   "cell_type": "markdown",
   "metadata": {},
   "source": [
    "How would I check if pink is a favorite color?  I need to find out if it is in the list of favorite colors, yes?  How would you go about this?"
   ]
  },
  {
   "cell_type": "code",
   "execution_count": null,
   "metadata": {},
   "outputs": [],
   "source": [
    "# Is pink a favorite color?\n",
    "\"pink\" in favorite_colors"
   ]
  },
  {
   "cell_type": "code",
   "execution_count": null,
   "metadata": {},
   "outputs": [],
   "source": [
    "# what about red and orange? Are they in the rainbow?\n",
    "print(\"red\" in not_an_emo_rainbow)\n",
    "\n",
    "print(\"orange\" in not_an_emo_rainbow)"
   ]
  },
  {
   "cell_type": "code",
   "execution_count": null,
   "metadata": {},
   "outputs": [],
   "source": [
    "# What exactly were the rainbow colors as we last saw them?\n",
    "not_an_emo_rainbow"
   ]
  },
  {
   "cell_type": "markdown",
   "metadata": {},
   "source": [
    "\"orange\" ended up being within an item in the list.  That's why \"orange\" registered false when asked if it was in the list.  If we wanted to check if \"indigo\" and \"violet\" were in our rainbow, is there a slick command to check them both at the same time like when we checked for multiple characters within a string?"
   ]
  },
  {
   "cell_type": "code",
   "execution_count": null,
   "metadata": {
    "collapsed": true
   },
   "outputs": [],
   "source": [
    "# your code here?\n",
    "\n"
   ]
  },
  {
   "cell_type": "markdown",
   "metadata": {},
   "source": [
    "Well, shucks.  Since we're going to have to check our colors one by one, it'd be nice if there was a tool to expedite the process.  I mean, there's been a tool for all sorts of other simplifications of tedious work so far, right?"
   ]
  },
  {
   "cell_type": "markdown",
   "metadata": {},
   "source": [
    "# for-loops!\n",
    "\n",
    "If you want to expedite work, for-loops. Are. Your. Friend!  It's basically a way of saying to Python, I have a task I want done, please do it for a bunch of cases."
   ]
  },
  {
   "cell_type": "code",
   "execution_count": null,
   "metadata": {
    "collapsed": true
   },
   "outputs": [],
   "source": [
    "# the basic syntax is \n",
    "\n",
    "for each_thing in collection:\n",
    "    do code"
   ]
  },
  {
   "cell_type": "markdown",
   "metadata": {},
   "source": [
    "We've already established that Python knows how to find objects within a large collection.  What the for loop allows you to do is to iterate through everything that is in a collection, assign it to a variable (name of your choosing), and then do some code to it.\n",
    "\n",
    "Examples:"
   ]
  },
  {
   "cell_type": "code",
   "execution_count": null,
   "metadata": {},
   "outputs": [],
   "source": [
    "for letter in \"abcdefg\":\n",
    "    print(letter)"
   ]
  },
  {
   "cell_type": "code",
   "execution_count": null,
   "metadata": {},
   "outputs": [],
   "source": [
    "for number in range(5):\n",
    "    print(number * 2)"
   ]
  },
  {
   "cell_type": "code",
   "execution_count": null,
   "metadata": {},
   "outputs": [],
   "source": [
    "for color in favorite_colors:\n",
    "    print(\"my favorite color is now \" + color)"
   ]
  },
  {
   "cell_type": "markdown",
   "metadata": {},
   "source": [
    "I want to emphasize that Python doesn't magically know that letters are in a string, that numbers are in a range, or that colors are in my favorite_colors list.  Python just knows how to iterate through certain objects in a structured way.  There's a lot of code under the hood that the for loop (and its associated syntax) access that grab the first thing in our collection, and then do a variable assignment to the variable name of your choosing.  That there is correlation between the variable name and the collection name is because it makes it easier for me to reason about my code.  The more readable you code, the better.\n",
    "\n",
    "But for contrast:"
   ]
  },
  {
   "cell_type": "code",
   "execution_count": null,
   "metadata": {
    "collapsed": true
   },
   "outputs": [],
   "source": [
    "for item in \"abcdefg\":\n",
    "    print(item)"
   ]
  },
  {
   "cell_type": "code",
   "execution_count": null,
   "metadata": {},
   "outputs": [],
   "source": [
    "for a in range(5):\n",
    "    print(a * 2)"
   ]
  },
  {
   "cell_type": "code",
   "execution_count": null,
   "metadata": {},
   "outputs": [],
   "source": [
    "for I_wonder_how_Jeff_is_doing in favorite_colors:\n",
    "    print(\"my favorite color is now \" + I_wonder_how_Jeff_is_doing)"
   ]
  },
  {
   "cell_type": "markdown",
   "metadata": {},
   "source": [
    "How about an example with more going on?"
   ]
  },
  {
   "cell_type": "code",
   "execution_count": null,
   "metadata": {},
   "outputs": [],
   "source": [
    "# what does this do?\n",
    "for color in [\"red\",\"orange\"]:\n",
    "    if color in not_an_emo_rainbow:\n",
    "        print(color, \"is in\")\n",
    "    else:\n",
    "        print(color, \"is out\")"
   ]
  },
  {
   "cell_type": "markdown",
   "metadata": {},
   "source": [
    "# sys library and file handling"
   ]
  },
  {
   "cell_type": "code",
   "execution_count": null,
   "metadata": {
    "collapsed": true
   },
   "outputs": [],
   "source": [
    "import sys"
   ]
  },
  {
   "cell_type": "markdown",
   "metadata": {},
   "source": [
    "That's a rather innocuous line above.  What exactly are we doing?  Does it need to be done in every program?  Several of you have been including it in programs when it isn't necessary.  I can't fault you for that, we haven't talked about it yet, but we only need to include it when we actually use it.  For tonight's homework, depending on how you write your program, you'll need the sys library."
   ]
  },
  {
   "cell_type": "markdown",
   "metadata": {},
   "source": [
    "What is the structure of commands we enter on the command line?  When we want to run a program in python, there's a strict formula to it.  Who knows it?"
   ]
  },
  {
   "cell_type": "markdown",
   "metadata": {},
   "source": [
    "$ Python program.py extra1 extra2 ...\n",
    "\n",
    "In short, we start with the word python.  Then we write the name of the program.  Then, if the program needs other things, we list off the other things.  Most likely, this will be other files the program needs.  Tonight, the file we're going to need is called \"words.txt\".\n",
    "\n",
    "Next question, how do you get things like extra1 and extra2 from the command line into your program?\n",
    "\n",
    "When you run a program you can access them with sys.argv (if you import your sys library)"
   ]
  },
  {
   "cell_type": "code",
   "execution_count": null,
   "metadata": {},
   "outputs": [],
   "source": [
    "# notice that the exclamation mark lets me run command line functions\n",
    "# from within the ipython notebook.\n",
    "\n",
    "!python commandLineArguments.py test testing what"
   ]
  },
  {
   "cell_type": "markdown",
   "metadata": {},
   "source": [
    "Notice the structure of what comes back.  sys.argv is a list of everything that was typed after the word python on the command line.\n",
    "\n",
    "sys.argv[0] is the beginning of the list.  It is always the name of the program being run.\n",
    "sys.argv[1:] is everything else that was given as a command line parameter.\n",
    "\n",
    "Note that everything is stored in the list as a string.  If your program needed a number, you'll have to turn a string into a number.  If you need a float, you'll have to do likewise.  Maybe you'll need to do other data checking within your program to make sure that you got the right inputs.  Regardless, this is how you get information from the command line into your program."
   ]
  },
  {
   "cell_type": "markdown",
   "metadata": {},
   "source": [
    "# files"
   ]
  },
  {
   "cell_type": "markdown",
   "metadata": {},
   "source": [
    "Tonight we need to access the file \"words.txt\".  Once we've done that, how do we get our function to open words.txt?  And then how do we read it??!?!"
   ]
  },
  {
   "cell_type": "code",
   "execution_count": null,
   "metadata": {
    "collapsed": true
   },
   "outputs": [],
   "source": [
    "# The book gives the open command as the means of opening a file.\n",
    "file = open(\"words.txt\")"
   ]
  },
  {
   "cell_type": "code",
   "execution_count": null,
   "metadata": {
    "collapsed": true
   },
   "outputs": [],
   "source": [
    "# once we've opened a file, we can do things ... like read it.  Seems sensible enough.\n",
    "data = file.read()"
   ]
  },
  {
   "cell_type": "code",
   "execution_count": null,
   "metadata": {
    "collapsed": true
   },
   "outputs": [],
   "source": [
    "# Whenever you're done with a file, you need to close it.\n",
    "file.close()"
   ]
  },
  {
   "cell_type": "code",
   "execution_count": null,
   "metadata": {},
   "outputs": [],
   "source": [
    "# What was the result of reading our file?\n",
    "data"
   ]
  },
  {
   "cell_type": "markdown",
   "metadata": {},
   "source": [
    "Ok, that was a lot to take in; I feel like I just peaked inside pandoras box.  Can anyone think of a sensible way for us to deal with that??\n",
    "\n",
    "If not, that's totes ok.\n",
    "\n",
    "As a first method of dealing with this, notice that the variable \"data\" is a string."
   ]
  },
  {
   "cell_type": "code",
   "execution_count": null,
   "metadata": {},
   "outputs": [],
   "source": [
    "type(data)"
   ]
  },
  {
   "cell_type": "code",
   "execution_count": null,
   "metadata": {},
   "outputs": [],
   "source": [
    "# How do we view the first 100 characters of the string, data?\n",
    "data[ ]"
   ]
  },
  {
   "cell_type": "markdown",
   "metadata": {},
   "source": [
    "Anybody notice a pattern here?\n",
    "\n",
    "If you read a file all at once, which is what happens when you use the .read() method (think file.read() above), you get the entire text of a file, with a newline character (\\n) marking the end of every line.\n",
    "\n",
    "And as is usually the case, there is a way to deal with this problem.  Let's first look back to the first string we were playing with today:"
   ]
  },
  {
   "cell_type": "code",
   "execution_count": null,
   "metadata": {
    "collapsed": true
   },
   "outputs": [],
   "source": [
    "test = \"My first string\""
   ]
  },
  {
   "cell_type": "markdown",
   "metadata": {},
   "source": [
    "Among other things, I had asked you to find the first, second, and third words.  We used indexing before, but now that we know about lists, we can invoke another tool, the .split() method."
   ]
  },
  {
   "cell_type": "code",
   "execution_count": null,
   "metadata": {},
   "outputs": [],
   "source": [
    "test.split()"
   ]
  },
  {
   "cell_type": "markdown",
   "metadata": {},
   "source": [
    "What happened?"
   ]
  },
  {
   "cell_type": "markdown",
   "metadata": {},
   "source": [
    "It looks like we split the string on the \" \" character.  Anyone want to wager, can we split on a different character?"
   ]
  },
  {
   "cell_type": "code",
   "execution_count": null,
   "metadata": {
    "collapsed": true
   },
   "outputs": [],
   "source": [
    "str.split?"
   ]
  },
  {
   "cell_type": "markdown",
   "metadata": {},
   "source": [
    "Turns out we can, and we will."
   ]
  },
  {
   "cell_type": "code",
   "execution_count": null,
   "metadata": {},
   "outputs": [],
   "source": [
    "# looking again at a random chunk of our file:\n",
    "data[5000:5500]"
   ]
  },
  {
   "cell_type": "markdown",
   "metadata": {},
   "source": [
    "How could we turn text like this into a list of words?"
   ]
  },
  {
   "cell_type": "code",
   "execution_count": null,
   "metadata": {
    "collapsed": true
   },
   "outputs": [],
   "source": [
    "word_list = "
   ]
  },
  {
   "cell_type": "markdown",
   "metadata": {},
   "source": [
    "Now that we have a list of words, how could we iterate over these words?"
   ]
  },
  {
   "cell_type": "code",
   "execution_count": null,
   "metadata": {
    "collapsed": true
   },
   "outputs": [],
   "source": []
  },
  {
   "cell_type": "markdown",
   "metadata": {},
   "source": [
    "The above provides us details on how to load a file, read the text of the file, and then turn our file into a list of words.  Once we've made it that far, we need to iterate through our list, and pick out all the words that have all five vowels.  Before talking more about this, I'm going to mention a second means of file handling.  If you are happy with the above, feel free to skip down a ways."
   ]
  },
  {
   "cell_type": "markdown",
   "metadata": {},
   "source": [
    "### files b"
   ]
  },
  {
   "cell_type": "markdown",
   "metadata": {},
   "source": [
    "I don't like opening and closing files, and there is a command that does both.  And then we can use "
   ]
  },
  {
   "cell_type": "code",
   "execution_count": null,
   "metadata": {
    "collapsed": true
   },
   "outputs": [],
   "source": [
    "# with open(desired_file, for reading or writing?) as variable-name: \n",
    "with open(\"words.txt\",\"r\") as f:\n",
    "    \n",
    "    # now that the file is open and stored to f, I can start working with it.\n",
    "    # just as we could iterate through strings by character, and lists by objects,\n",
    "    # we can also iterate through files by line.  Files are \"iterable objects\n",
    "    # just like so many other things in Python.\n",
    "    \n",
    "    # Help me write code that will print the first ten lines of the file:\n",
    "    for i in range(10):\n",
    "        print(f.readline())\n",
    "        "
   ]
  },
  {
   "cell_type": "code",
   "execution_count": null,
   "metadata": {},
   "outputs": [],
   "source": [
    "# with open(desired_file, for reading or writing?) as variable-name: \n",
    "with open(\"words.txt\",\"r\") as f:\n",
    "\n",
    "    # help me write code that will print every line that has \"aa\" in it:\n",
    "    for line in f:\n",
    "        if \"aa\" in line:\n",
    "            print(line)"
   ]
  },
  {
   "cell_type": "code",
   "execution_count": null,
   "metadata": {
    "collapsed": true
   },
   "outputs": [],
   "source": [
    "file = open(\"words.txt\")"
   ]
  },
  {
   "cell_type": "code",
   "execution_count": null,
   "metadata": {},
   "outputs": [],
   "source": [
    "for line in file:\n",
    "    if \"aa\" in line:\n",
    "        print(line)"
   ]
  },
  {
   "cell_type": "markdown",
   "metadata": {},
   "source": [
    "# logic"
   ]
  },
  {
   "cell_type": "code",
   "execution_count": null,
   "metadata": {
    "collapsed": true
   },
   "outputs": [],
   "source": [
    "x = True\n",
    "y = False"
   ]
  },
  {
   "cell_type": "code",
   "execution_count": null,
   "metadata": {
    "collapsed": true
   },
   "outputs": [],
   "source": [
    "x == True"
   ]
  },
  {
   "cell_type": "code",
   "execution_count": null,
   "metadata": {
    "collapsed": true
   },
   "outputs": [],
   "source": [
    "y == True"
   ]
  },
  {
   "cell_type": "markdown",
   "metadata": {},
   "source": [
    "How do we check both of these in one statement?"
   ]
  },
  {
   "cell_type": "code",
   "execution_count": null,
   "metadata": {
    "collapsed": true
   },
   "outputs": [],
   "source": [
    "(x == True) and (y == True)"
   ]
  },
  {
   "cell_type": "markdown",
   "metadata": {},
   "source": [
    "Or is it:"
   ]
  },
  {
   "cell_type": "code",
   "execution_count": null,
   "metadata": {
    "collapsed": true
   },
   "outputs": [],
   "source": [
    "(x == True) or (y == True)"
   ]
  },
  {
   "cell_type": "markdown",
   "metadata": {},
   "source": [
    "You get to make a choice of what you want your logic to be.  Just know that \"and\" is only True if both of its inputs are True.  Or evaluates to True if either of its inputs are True."
   ]
  },
  {
   "cell_type": "code",
   "execution_count": null,
   "metadata": {
    "collapsed": true
   },
   "outputs": [],
   "source": [
    "(x == True) and not (y == True)"
   ]
  },
  {
   "cell_type": "markdown",
   "metadata": {},
   "source": [
    "# scaffolding\n",
    "\n",
    "What should your homework look like?\n",
    "\n",
    "Let's think about this:"
   ]
  },
  {
   "cell_type": "code",
   "execution_count": null,
   "metadata": {
    "collapsed": true
   },
   "outputs": [],
   "source": [
    "# decision function\n",
    "# we need a function that takes in a word, and returns\n",
    "# True if all five vowels are found, and False if \n",
    "# any of the five vowels are not found.\n",
    "\n",
    "    \n",
    "    # if the inputted word has \"a\", keep verifying\n",
    "    # if it doesn't return False\n",
    "    \n",
    "    # if the inputted word has \"e\", keep verifying\n",
    "    # if it doesn't return False\n",
    "    \n",
    "    # if the inputted word has \"i\", keep verifying\n",
    "    # if it doesn't return False\n",
    "\n",
    "    # if the inputted word has \"o\", keep verifying\n",
    "    # if it doesn't return False\n",
    "\n",
    "    # if the inputted word has \"u\", ... return True!\n",
    "    # we've found all the vowels!\n",
    "    # if \"u\" isn't found, we can return False\n",
    "    \n",
    "    # if you haven't returned True or False yet,\n",
    "    # why not?  Whatever the reason, we need to\n",
    "    # return a boolean True/False value to the user\n",
    "\n",
    "    \n",
    "# NOTE:\n",
    "# How you go about checking for the individual letters is up to you.\n",
    "# As well, you could check each letter with its own conditional\n",
    "# or you could use a for-loop to automate the same type of question\n",
    "# you'll ask over and over again.\n",
    "    "
   ]
  },
  {
   "cell_type": "markdown",
   "metadata": {},
   "source": [
    "Once we have our decision function, our program should look somewhat like the following:"
   ]
  },
  {
   "cell_type": "code",
   "execution_count": null,
   "metadata": {
    "collapsed": true
   },
   "outputs": [],
   "source": [
    "# We need to get the file name from the user.  In order\n",
    "# to do this, we'll need the sys arguments, so we need\n",
    "# the system library: we should import the system library\n",
    "\n",
    "\n",
    "# Once we've imported the system library, we need to\n",
    "# extract our desired file name from the system arguments\n",
    "\n",
    "\n",
    "\n",
    "# After getting the name of the file we need to load, we\n",
    "# need to actually load it!\n",
    "\n",
    "\n",
    "\n",
    "# File is loaded, retrieve the data from it!\n",
    "\n",
    "\n",
    "\n",
    "# If we are reading the data all at once, we want to\n",
    "# split the data into words.  If we plan on iterating\n",
    "# through the file by line instead of iterating through\n",
    "# a list of words by word, we can omit this step\n",
    "\n",
    "\n",
    "\n",
    "# Iterating through our data, we need to print any word/line\n",
    "# that satisfies our condition.  For this homework,\n",
    "# we probably want a function that takes in a word,\n",
    "# and returns True if all the vowels are present, and\n",
    "# returns False if any of the vowels are missing.\n",
    "\n",
    "\n",
    "\n"
   ]
  }
 ],
 "metadata": {
  "kernelspec": {
   "display_name": "Python 3",
   "language": "python",
   "name": "python3"
  },
  "language_info": {
   "codemirror_mode": {
    "name": "ipython",
    "version": 3
   },
   "file_extension": ".py",
   "mimetype": "text/x-python",
   "name": "python",
   "nbconvert_exporter": "python",
   "pygments_lexer": "ipython3",
   "version": "3.6.1"
  }
 },
 "nbformat": 4,
 "nbformat_minor": 2
}
