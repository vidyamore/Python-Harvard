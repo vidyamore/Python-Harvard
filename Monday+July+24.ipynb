{
 "cells": [
  {
   "cell_type": "code",
   "execution_count": 158,
   "metadata": {},
   "outputs": [],
   "source": [
    "#The user supplies a word and a dictionary on the command line.  If the word is not in the dictionary, \n",
    "# your program should suggest some likely alternatives.  The alternatives should include\n",
    "\n",
    "def build_dict():\n",
    "    with open('words.txt') as my_file:\n",
    "        words = {} # initialize a dictionary\n",
    "        for word in my_file:\n",
    "            word = word.strip()\n",
    "            if (word in words): # add words to the dictionary\n",
    "                words[word] = words[word] + 1\n",
    "            else:\n",
    "                words[word] = 1\n",
    "\n",
    "    return words\n",
    "\n",
    "words = build_dict()\n",
    "\n",
    "def processword(word):\n",
    "    letters    = 'abcdefghijklmnopqrstuvwxyz'\n",
    "    splitwords = [(word[:i], word[i:]) for i in range(len(word) + 1)]\n",
    "    #[('', 'thme'), ('t', 'hme'), ('th', 'me'), ('thm', 'e'), ('thme', '')]\n",
    "    print (splitwords)\n",
    "    #Legal words you can reach by adding a single letter\n",
    "    addletters  = [item1 + c + item2  for item1, item2 in splitwords for c in letters]\n",
    "    print(addletters)\n",
    "    addlettersfromdict = set(w for w in addletters if w in words) \n",
    "    #Legal words you can reach by changing a single letter\n",
    "    replacesletters = [item1 + c + item2[1:]  for item1, item2 in splitwords if item2 for c in letters]\n",
    "    replaceslettersfromdict = set(w for w in replacesletters if w in words) \n",
    "    #Legal words you can reach by exchanging two adjacent letters, like thsi.  \n",
    "    exchangeletters = [item1 + item2[1] + item2[0] + item2[2:] for item1, item2 in splitwords if len(item2)>1]\n",
    "    exchangelettersfromdict = set(w for w in exchangeletters if w in words) \n",
    "    #Legal words you can reach by removing a single letter\n",
    "    removeletters= [item1 + item2[1:]for item1, item2 in splitwords if item2]\n",
    "    removelettersfromdict = set(w for w in removeletters if w in words) \n",
    "    finallist = list(addlettersfromdict | replaceslettersfromdict | exchangelettersfromdict | removelettersfromdict)\n",
    "    finallist.sort()\n",
    "    print (finallist)\n",
    "    return finallist"
   ]
  },
  {
   "cell_type": "code",
   "execution_count": 161,
   "metadata": {},
   "outputs": [
    {
     "name": "stdout",
     "output_type": "stream",
     "text": [
      "[('', 'ther'), ('t', 'her'), ('th', 'er'), ('the', 'r'), ('ther', '')]\n",
      "['ather', 'bther', 'cther', 'dther', 'ether', 'fther', 'gther', 'hther', 'ither', 'jther', 'kther', 'lther', 'mther', 'nther', 'other', 'pther', 'qther', 'rther', 'sther', 'tther', 'uther', 'vther', 'wther', 'xther', 'yther', 'zther', 'taher', 'tbher', 'tcher', 'tdher', 'teher', 'tfher', 'tgher', 'thher', 'tiher', 'tjher', 'tkher', 'tlher', 'tmher', 'tnher', 'toher', 'tpher', 'tqher', 'trher', 'tsher', 'tther', 'tuher', 'tvher', 'twher', 'txher', 'tyher', 'tzher', 'thaer', 'thber', 'thcer', 'thder', 'theer', 'thfer', 'thger', 'thher', 'thier', 'thjer', 'thker', 'thler', 'thmer', 'thner', 'thoer', 'thper', 'thqer', 'threr', 'thser', 'thter', 'thuer', 'thver', 'thwer', 'thxer', 'thyer', 'thzer', 'thear', 'thebr', 'thecr', 'thedr', 'theer', 'thefr', 'thegr', 'thehr', 'their', 'thejr', 'thekr', 'thelr', 'themr', 'thenr', 'theor', 'thepr', 'theqr', 'therr', 'thesr', 'thetr', 'theur', 'thevr', 'thewr', 'thexr', 'theyr', 'thezr', 'thera', 'therb', 'therc', 'therd', 'there', 'therf', 'therg', 'therh', 'theri', 'therj', 'therk', 'therl', 'therm', 'thern', 'thero', 'therp', 'therq', 'therr', 'thers', 'thert', 'theru', 'therv', 'therw', 'therx', 'thery', 'therz']\n",
      "['ether', 'her', 'ither', 'other', 'the', 'thee', 'their', 'them', 'then', 'there', 'therm', 'thew', 'they', 'thir', 'tier']\n"
     ]
    },
    {
     "data": {
      "text/plain": [
       "{'ether',\n",
       " 'her',\n",
       " 'ither',\n",
       " 'other',\n",
       " 'the',\n",
       " 'thee',\n",
       " 'their',\n",
       " 'them',\n",
       " 'then',\n",
       " 'there',\n",
       " 'therm',\n",
       " 'thew',\n",
       " 'they',\n",
       " 'thir',\n",
       " 'tier'}"
      ]
     },
     "execution_count": 161,
     "metadata": {},
     "output_type": "execute_result"
    }
   ],
   "source": [
    "possiblewords(\"ther\")"
   ]
  },
  {
   "cell_type": "code",
   "execution_count": 148,
   "metadata": {},
   "outputs": [
    {
     "name": "stdout",
     "output_type": "stream",
     "text": [
      "{'the'}\n"
     ]
    }
   ],
   "source": [
    "words = build_dict()\n",
    "word = \"thme\"\n",
    "# break the word in two parts\n",
    "splitwords  = [(word[:i], word[i:]) for i in range(len(word) + 1)]\n",
    "#Legal words you can reach by removing a single letter\n",
    "removeleters    = [item1 + item2[1:]for item1, item2 in splitwords if item2]\n",
    "finalremove = set(w for w in removeleters if w in words) \n",
    "print (finalremove)"
   ]
  },
  {
   "cell_type": "code",
   "execution_count": 111,
   "metadata": {},
   "outputs": [
    {
     "name": "stdout",
     "output_type": "stream",
     "text": [
      "{'them'}\n"
     ]
    }
   ],
   "source": [
    "word = \"thme\"\n",
    "# break the word in two parts\n",
    "splitwords  = [(word[:i], word[i:]) for i in range(len(word) + 1)]\n",
    "#Legal words you can reach by exchanging two adjacent letters, like thsi.  \n",
    "exchangeletters = [item1 + item2[1] + item2[0] + item2[2:] for item1, item2 in splitwords if len(item2)>1]\n",
    "finalexchange = set(w for w in exchangeletters if w in words) \n",
    "print (finalexchange)"
   ]
  },
  {
   "cell_type": "code",
   "execution_count": 129,
   "metadata": {},
   "outputs": [
    {
     "name": "stdout",
     "output_type": "stream",
     "text": [
      "['tame', 'thae', 'the', 'thee', 'them', 'theme', 'thyme', 'time', 'tome']\n"
     ]
    }
   ],
   "source": [
    "word = \"thme\"\n",
    "letters    = 'abcdefghijklmnopqrstuvwxyz'\n",
    "# break the word in two parts\n",
    "splitwords  = [(word[:i], word[i:]) for i in range(len(word) + 1)]\n",
    "#Legal words you can reach by changing a single letter\n",
    "replacesletters   = [item1 + c + item2[1:] for item1, item2 in splitwords if item2 for c in letters]\n",
    "finalreplace = set(w for w in replacesletters if w in words) \n",
    "lst = list(finalreplace | finaladd |finalexchange|finalremove)\n",
    "lst.sort()\n",
    "print (lst)"
   ]
  },
  {
   "cell_type": "code",
   "execution_count": 113,
   "metadata": {},
   "outputs": [
    {
     "name": "stdout",
     "output_type": "stream",
     "text": [
      "{'thyme', 'theme'}\n"
     ]
    }
   ],
   "source": [
    "word = \"thme\"\n",
    "letters    = 'abcdefghijklmnopqrstuvwxyz'\n",
    "# break the word in two parts\n",
    "splitwords  = [(word[:i], word[i:]) for i in range(len(word) + 1)]\n",
    "#Legal words you can reach by adding a single letter\n",
    "addletters    = [item1 + c + item2               for item1, item2 in splitwords for c in letters]\n",
    "finaladd = set(w for w in addletters if w in words) \n",
    "print (finaladd)"
   ]
  },
  {
   "cell_type": "code",
   "execution_count": 74,
   "metadata": {},
   "outputs": [
    {
     "name": "stdout",
     "output_type": "stream",
     "text": [
      "['htme', 'tmhe', 'them']\n"
     ]
    },
    {
     "data": {
      "text/plain": [
       "{'tame', 'thae', 'the', 'thee', 'them', 'theme', 'thyme', 'time', 'tome'}"
      ]
     },
     "execution_count": 74,
     "metadata": {},
     "output_type": "execute_result"
    }
   ],
   "source": [
    "subsetwords(possiblewords(\"thme\"))"
   ]
  },
  {
   "cell_type": "code",
   "execution_count": 77,
   "metadata": {},
   "outputs": [
    {
     "name": "stdout",
     "output_type": "stream",
     "text": [
      "['aher', 'bher', 'cher', 'dher', 'eher', 'fher', 'gher', 'hher', 'iher', 'jher', 'kher', 'lher', 'mher', 'nher', 'oher', 'pher', 'qher', 'rher', 'sher', 'ther', 'uher', 'vher', 'wher', 'xher', 'yher', 'zher', 'taer', 'tber', 'tcer', 'tder', 'teer', 'tfer', 'tger', 'ther', 'tier', 'tjer', 'tker', 'tler', 'tmer', 'tner', 'toer', 'tper', 'tqer', 'trer', 'tser', 'tter', 'tuer', 'tver', 'twer', 'txer', 'tyer', 'tzer', 'thar', 'thbr', 'thcr', 'thdr', 'ther', 'thfr', 'thgr', 'thhr', 'thir', 'thjr', 'thkr', 'thlr', 'thmr', 'thnr', 'thor', 'thpr', 'thqr', 'thrr', 'thsr', 'thtr', 'thur', 'thvr', 'thwr', 'thxr', 'thyr', 'thzr', 'thea', 'theb', 'thec', 'thed', 'thee', 'thef', 'theg', 'theh', 'thei', 'thej', 'thek', 'thel', 'them', 'then', 'theo', 'thep', 'theq', 'ther', 'thes', 'thet', 'theu', 'thev', 'thew', 'thex', 'they', 'thez']\n"
     ]
    },
    {
     "data": {
      "text/plain": [
       "{'ether',\n",
       " 'her',\n",
       " 'ither',\n",
       " 'other',\n",
       " 'the',\n",
       " 'thee',\n",
       " 'their',\n",
       " 'them',\n",
       " 'then',\n",
       " 'there',\n",
       " 'therm',\n",
       " 'thew',\n",
       " 'they',\n",
       " 'thir',\n",
       " 'tier'}"
      ]
     },
     "execution_count": 77,
     "metadata": {},
     "output_type": "execute_result"
    }
   ],
   "source": [
    "subsetwords(possiblewords(\"ther\"))"
   ]
  },
  {
   "cell_type": "code",
   "execution_count": 116,
   "metadata": {},
   "outputs": [
    {
     "name": "stdout",
     "output_type": "stream",
     "text": [
      "[('', 'thme'), ('t', 'hme'), ('th', 'me'), ('thm', 'e'), ('thme', '')]\n"
     ]
    },
    {
     "data": {
      "text/plain": [
       "{'ahme',\n",
       " 'athme',\n",
       " 'bhme',\n",
       " 'bthme',\n",
       " 'chme',\n",
       " 'cthme',\n",
       " 'dhme',\n",
       " 'dthme',\n",
       " 'ehme',\n",
       " 'ethme',\n",
       " 'fhme',\n",
       " 'fthme',\n",
       " 'ghme',\n",
       " 'gthme',\n",
       " 'hhme',\n",
       " 'hme',\n",
       " 'hthme',\n",
       " 'htme',\n",
       " 'ihme',\n",
       " 'ithme',\n",
       " 'jhme',\n",
       " 'jthme',\n",
       " 'khme',\n",
       " 'kthme',\n",
       " 'lhme',\n",
       " 'lthme',\n",
       " 'mhme',\n",
       " 'mthme',\n",
       " 'nhme',\n",
       " 'nthme',\n",
       " 'ohme',\n",
       " 'othme',\n",
       " 'phme',\n",
       " 'pthme',\n",
       " 'qhme',\n",
       " 'qthme',\n",
       " 'rhme',\n",
       " 'rthme',\n",
       " 'shme',\n",
       " 'sthme',\n",
       " 'tahme',\n",
       " 'tame',\n",
       " 'tbhme',\n",
       " 'tbme',\n",
       " 'tchme',\n",
       " 'tcme',\n",
       " 'tdhme',\n",
       " 'tdme',\n",
       " 'tehme',\n",
       " 'teme',\n",
       " 'tfhme',\n",
       " 'tfme',\n",
       " 'tghme',\n",
       " 'tgme',\n",
       " 'thae',\n",
       " 'thame',\n",
       " 'thbe',\n",
       " 'thbme',\n",
       " 'thce',\n",
       " 'thcme',\n",
       " 'thde',\n",
       " 'thdme',\n",
       " 'the',\n",
       " 'thee',\n",
       " 'them',\n",
       " 'theme',\n",
       " 'thfe',\n",
       " 'thfme',\n",
       " 'thge',\n",
       " 'thgme',\n",
       " 'thhe',\n",
       " 'thhme',\n",
       " 'thie',\n",
       " 'thime',\n",
       " 'thje',\n",
       " 'thjme',\n",
       " 'thke',\n",
       " 'thkme',\n",
       " 'thle',\n",
       " 'thlme',\n",
       " 'thm',\n",
       " 'thma',\n",
       " 'thmae',\n",
       " 'thmb',\n",
       " 'thmbe',\n",
       " 'thmc',\n",
       " 'thmce',\n",
       " 'thmd',\n",
       " 'thmde',\n",
       " 'thme',\n",
       " 'thmea',\n",
       " 'thmeb',\n",
       " 'thmec',\n",
       " 'thmed',\n",
       " 'thmee',\n",
       " 'thmef',\n",
       " 'thmeg',\n",
       " 'thmeh',\n",
       " 'thmei',\n",
       " 'thmej',\n",
       " 'thmek',\n",
       " 'thmel',\n",
       " 'thmem',\n",
       " 'thmen',\n",
       " 'thmeo',\n",
       " 'thmep',\n",
       " 'thmeq',\n",
       " 'thmer',\n",
       " 'thmes',\n",
       " 'thmet',\n",
       " 'thmeu',\n",
       " 'thmev',\n",
       " 'thmew',\n",
       " 'thmex',\n",
       " 'thmey',\n",
       " 'thmez',\n",
       " 'thmf',\n",
       " 'thmfe',\n",
       " 'thmg',\n",
       " 'thmge',\n",
       " 'thmh',\n",
       " 'thmhe',\n",
       " 'thmi',\n",
       " 'thmie',\n",
       " 'thmj',\n",
       " 'thmje',\n",
       " 'thmk',\n",
       " 'thmke',\n",
       " 'thml',\n",
       " 'thmle',\n",
       " 'thmm',\n",
       " 'thmme',\n",
       " 'thmn',\n",
       " 'thmne',\n",
       " 'thmo',\n",
       " 'thmoe',\n",
       " 'thmp',\n",
       " 'thmpe',\n",
       " 'thmq',\n",
       " 'thmqe',\n",
       " 'thmr',\n",
       " 'thmre',\n",
       " 'thms',\n",
       " 'thmse',\n",
       " 'thmt',\n",
       " 'thmte',\n",
       " 'thmu',\n",
       " 'thmue',\n",
       " 'thmv',\n",
       " 'thmve',\n",
       " 'thmw',\n",
       " 'thmwe',\n",
       " 'thmx',\n",
       " 'thmxe',\n",
       " 'thmy',\n",
       " 'thmye',\n",
       " 'thmz',\n",
       " 'thmze',\n",
       " 'thne',\n",
       " 'thnme',\n",
       " 'thoe',\n",
       " 'thome',\n",
       " 'thpe',\n",
       " 'thpme',\n",
       " 'thqe',\n",
       " 'thqme',\n",
       " 'thre',\n",
       " 'thrme',\n",
       " 'thse',\n",
       " 'thsme',\n",
       " 'thte',\n",
       " 'thtme',\n",
       " 'thue',\n",
       " 'thume',\n",
       " 'thve',\n",
       " 'thvme',\n",
       " 'thwe',\n",
       " 'thwme',\n",
       " 'thxe',\n",
       " 'thxme',\n",
       " 'thye',\n",
       " 'thyme',\n",
       " 'thze',\n",
       " 'thzme',\n",
       " 'tihme',\n",
       " 'time',\n",
       " 'tjhme',\n",
       " 'tjme',\n",
       " 'tkhme',\n",
       " 'tkme',\n",
       " 'tlhme',\n",
       " 'tlme',\n",
       " 'tme',\n",
       " 'tmhe',\n",
       " 'tmhme',\n",
       " 'tmme',\n",
       " 'tnhme',\n",
       " 'tnme',\n",
       " 'tohme',\n",
       " 'tome',\n",
       " 'tphme',\n",
       " 'tpme',\n",
       " 'tqhme',\n",
       " 'tqme',\n",
       " 'trhme',\n",
       " 'trme',\n",
       " 'tshme',\n",
       " 'tsme',\n",
       " 'tthme',\n",
       " 'ttme',\n",
       " 'tuhme',\n",
       " 'tume',\n",
       " 'tvhme',\n",
       " 'tvme',\n",
       " 'twhme',\n",
       " 'twme',\n",
       " 'txhme',\n",
       " 'txme',\n",
       " 'tyhme',\n",
       " 'tyme',\n",
       " 'tzhme',\n",
       " 'tzme',\n",
       " 'uhme',\n",
       " 'uthme',\n",
       " 'vhme',\n",
       " 'vthme',\n",
       " 'whme',\n",
       " 'wthme',\n",
       " 'xhme',\n",
       " 'xthme',\n",
       " 'yhme',\n",
       " 'ythme',\n",
       " 'zhme',\n",
       " 'zthme'}"
      ]
     },
     "execution_count": 116,
     "metadata": {},
     "output_type": "execute_result"
    }
   ],
   "source": [
    "processword(\"thme\")"
   ]
  },
  {
   "cell_type": "code",
   "execution_count": 34,
   "metadata": {},
   "outputs": [
    {
     "data": {
      "text/plain": [
       "set()"
      ]
     },
     "execution_count": 34,
     "metadata": {},
     "output_type": "execute_result"
    }
   ],
   "source": [
    "known([\"thme\"])"
   ]
  },
  {
   "cell_type": "code",
   "execution_count": 66,
   "metadata": {},
   "outputs": [
    {
     "data": {
      "text/plain": [
       "{'ether',\n",
       " 'her',\n",
       " 'ither',\n",
       " 'other',\n",
       " 'the',\n",
       " 'thee',\n",
       " 'their',\n",
       " 'them',\n",
       " 'then',\n",
       " 'there',\n",
       " 'therm',\n",
       " 'thew',\n",
       " 'they',\n",
       " 'thir',\n",
       " 'tier'}"
      ]
     },
     "execution_count": 66,
     "metadata": {},
     "output_type": "execute_result"
    }
   ],
   "source": [
    "known(edits1(\"ther\"))"
   ]
  },
  {
   "cell_type": "code",
   "execution_count": 154,
   "metadata": {
    "scrolled": true
   },
   "outputs": [
    {
     "name": "stdout",
     "output_type": "stream",
     "text": [
      "['ether', 'her', 'ither', 'other', 'the', 'thee', 'their', 'them', 'then', 'there', 'therm', 'thew', 'they', 'thir', 'tier']\n"
     ]
    },
    {
     "data": {
      "text/plain": [
       "{'ether',\n",
       " 'her',\n",
       " 'ither',\n",
       " 'other',\n",
       " 'the',\n",
       " 'thee',\n",
       " 'their',\n",
       " 'them',\n",
       " 'then',\n",
       " 'there',\n",
       " 'therm',\n",
       " 'thew',\n",
       " 'they',\n",
       " 'thir',\n",
       " 'tier'}"
      ]
     },
     "execution_count": 154,
     "metadata": {},
     "output_type": "execute_result"
    }
   ],
   "source": [
    "possiblewords(\"ther\")"
   ]
  },
  {
   "cell_type": "code",
   "execution_count": null,
   "metadata": {
    "collapsed": true
   },
   "outputs": [],
   "source": []
  }
 ],
 "metadata": {
  "kernelspec": {
   "display_name": "Python 3",
   "language": "python",
   "name": "python3"
  },
  "language_info": {
   "codemirror_mode": {
    "name": "ipython",
    "version": 3
   },
   "file_extension": ".py",
   "mimetype": "text/x-python",
   "name": "python",
   "nbconvert_exporter": "python",
   "pygments_lexer": "ipython3",
   "version": "3.6.1"
  }
 },
 "nbformat": 4,
 "nbformat_minor": 2
}
