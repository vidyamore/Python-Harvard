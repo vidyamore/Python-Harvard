{
 "cells": [
  {
   "cell_type": "code",
   "execution_count": 1,
   "metadata": {
    "collapsed": false
   },
   "outputs": [],
   "source": [
    "%matplotlib inline\n",
    "import seaborn as sns\n",
    "import matplotlib as plt\n",
    "import plotly as plot\n",
    "import bokeh as bk"
   ]
  },
  {
   "cell_type": "markdown",
   "metadata": {},
   "source": [
    "## Problem 1\n",
    "#### Nenad\n",
    "# Histogram\n",
    "##### Graduate Credit 5 points\n",
    "##### Undergraduate Credit 5 points\n",
    "\n",
    "Pick a dataset of your choice and plot a histogram using a library of your choice:\n",
    "\n",
    "* Seaborn\n",
    "* Matplotlib\n",
    "* Plotly\n",
    "* Bokeh\n",
    "\n",
    "## Style your plot and name, name your axes and give it a title.\n",
    "\n",
    "In order to get credit you need to execute your notebook and ensure that your pdf includes your code and histogram.\n",
    "\n",
    "## Your dataset MUST be loaded from a file."
   ]
  },
  {
   "cell_type": "markdown",
   "metadata": {},
   "source": [
    "## plot a histogram in seaborn, matplotlib, plotly, and bokeh"
   ]
  },
  {
   "cell_type": "code",
   "execution_count": 2,
   "metadata": {
    "collapsed": true
   },
   "outputs": [],
   "source": [
    "\n",
    "text = (\"\"\"## Problem 1\n",
    "#### Nenad\n",
    "# Histogram\n",
    "##### Graduate Credit 5 points\n",
    "##### Undergraduate Credit 5 points\n",
    "\n",
    "Pick a dataset of your choice and plot a histogram using a library of your choice:\n",
    "\n",
    "* Seaborn\n",
    "* Matplotlib\n",
    "* Plotly\n",
    "* Bokeh\n",
    "\n",
    "Style your plot and name, name your axes and give it a title.\n",
    "In order to get credit you need to execute your notebook and ensure that your pdf includes your code and histogram.\n",
    "\n",
    "Your dataset MUST be loaded from a file.\"\"\")\n",
    "\n",
    "data = [ord(char) for char in text]"
   ]
  },
  {
   "cell_type": "code",
   "execution_count": 3,
   "metadata": {
    "collapsed": false
   },
   "outputs": [
    {
     "name": "stdout",
     "output_type": "stream",
     "text": [
      "[35, 35, 32, 80, 114, 111, 98, 108, 101, 109, 32, 49, 10, 35, 35, 35, 35, 32, 78, 101, 110, 97, 100, 10, 35, 32, 72, 105, 115, 116, 111, 103, 114, 97, 109, 10, 35, 35, 35, 35, 35, 32, 71, 114, 97, 100, 117, 97, 116, 101, 32, 67, 114, 101, 100, 105, 116, 32, 53, 32, 112, 111, 105, 110, 116, 115, 10, 35, 35, 35, 35, 35, 32, 85, 110, 100, 101, 114, 103, 114, 97, 100, 117, 97, 116, 101, 32, 67, 114, 101, 100, 105, 116, 32, 53, 32, 112, 111, 105, 110, 116, 115, 10, 10, 80, 105, 99, 107, 32, 97, 32, 100, 97, 116, 97, 115, 101, 116, 32, 111, 102, 32, 121, 111, 117, 114, 32, 99, 104, 111, 105, 99, 101, 32, 97, 110, 100, 32, 112, 108, 111, 116, 32, 97, 32, 104, 105, 115, 116, 111, 103, 114, 97, 109, 32, 117, 115, 105, 110, 103, 32, 97, 32, 108, 105, 98, 114, 97, 114, 121, 32, 111, 102, 32, 121, 111, 117, 114, 32, 99, 104, 111, 105, 99, 101, 58, 10, 10, 42, 32, 83, 101, 97, 98, 111, 114, 110, 10, 42, 32, 77, 97, 116, 112, 108, 111, 116, 108, 105, 98, 10, 42, 32, 80, 108, 111, 116, 108, 121, 10, 42, 32, 66, 111, 107, 101, 104, 10, 10, 83, 116, 121, 108, 101, 32, 121, 111, 117, 114, 32, 112, 108, 111, 116, 32, 97, 110, 100, 32, 110, 97, 109, 101, 44, 32, 110, 97, 109, 101, 32, 121, 111, 117, 114, 32, 97, 120, 101, 115, 32, 97, 110, 100, 32, 103, 105, 118, 101, 32, 105, 116, 32, 97, 32, 116, 105, 116, 108, 101, 46, 10, 73, 110, 32, 111, 114, 100, 101, 114, 32, 116, 111, 32, 103, 101, 116, 32, 99, 114, 101, 100, 105, 116, 32, 121, 111, 117, 32, 110, 101, 101, 100, 32, 116, 111, 32, 101, 120, 101, 99, 117, 116, 101, 32, 121, 111, 117, 114, 32, 110, 111, 116, 101, 98, 111, 111, 107, 32, 97, 110, 100, 32, 101, 110, 115, 117, 114, 101, 32, 116, 104, 97, 116, 32, 121, 111, 117, 114, 32, 112, 100, 102, 32, 105, 110, 99, 108, 117, 100, 101, 115, 32, 121, 111, 117, 114, 32, 99, 111, 100, 101, 32, 97, 110, 100, 32, 104, 105, 115, 116, 111, 103, 114, 97, 109, 46, 10, 10, 89, 111, 117, 114, 32, 100, 97, 116, 97, 115, 101, 116, 32, 77, 85, 83, 84, 32, 98, 101, 32, 108, 111, 97, 100, 101, 100, 32, 102, 114, 111, 109, 32, 97, 32, 102, 105, 108, 101, 46]\n"
     ]
    }
   ],
   "source": [
    "print(data)"
   ]
  },
  {
   "cell_type": "code",
   "execution_count": 4,
   "metadata": {
    "collapsed": false
   },
   "outputs": [
    {
     "data": {
      "text/plain": [
       "Counter({10: 16,\n",
       "         32: 70,\n",
       "         35: 17,\n",
       "         42: 4,\n",
       "         44: 1,\n",
       "         46: 3,\n",
       "         49: 1,\n",
       "         53: 2,\n",
       "         58: 1,\n",
       "         66: 1,\n",
       "         67: 2,\n",
       "         71: 1,\n",
       "         72: 1,\n",
       "         73: 1,\n",
       "         77: 2,\n",
       "         78: 1,\n",
       "         80: 3,\n",
       "         83: 3,\n",
       "         84: 1,\n",
       "         85: 2,\n",
       "         89: 1,\n",
       "         97: 30,\n",
       "         98: 6,\n",
       "         99: 9,\n",
       "         100: 21,\n",
       "         101: 35,\n",
       "         102: 5,\n",
       "         103: 7,\n",
       "         104: 6,\n",
       "         105: 19,\n",
       "         107: 3,\n",
       "         108: 13,\n",
       "         109: 7,\n",
       "         110: 18,\n",
       "         111: 34,\n",
       "         112: 6,\n",
       "         114: 25,\n",
       "         115: 11,\n",
       "         116: 30,\n",
       "         117: 15,\n",
       "         118: 1,\n",
       "         120: 2,\n",
       "         121: 11})"
      ]
     },
     "execution_count": 4,
     "metadata": {},
     "output_type": "execute_result"
    }
   ],
   "source": [
    "from collections import Counter\n",
    "Counter(data)"
   ]
  },
  {
   "cell_type": "code",
   "execution_count": 5,
   "metadata": {
    "collapsed": false
   },
   "outputs": [],
   "source": [
    "import pickle\n",
    "\n",
    "with open(\"temp_data\",\"wb\") as f:\n",
    "    pickle.dump(data,f)"
   ]
  },
  {
   "cell_type": "code",
   "execution_count": 6,
   "metadata": {
    "collapsed": true
   },
   "outputs": [],
   "source": [
    "del data\n",
    "\n",
    "with open(\"temp_data\",\"rb\") as f:\n",
    "    data = pickle.load(f)\n"
   ]
  },
  {
   "cell_type": "code",
   "execution_count": 7,
   "metadata": {
    "collapsed": false
   },
   "outputs": [
    {
     "data": {
      "text/plain": [
       "[35,\n",
       " 35,\n",
       " 32,\n",
       " 80,\n",
       " 114,\n",
       " 111,\n",
       " 98,\n",
       " 108,\n",
       " 101,\n",
       " 109,\n",
       " 32,\n",
       " 49,\n",
       " 10,\n",
       " 35,\n",
       " 35,\n",
       " 35,\n",
       " 35,\n",
       " 32,\n",
       " 78,\n",
       " 101,\n",
       " 110,\n",
       " 97,\n",
       " 100,\n",
       " 10,\n",
       " 35,\n",
       " 32,\n",
       " 72,\n",
       " 105,\n",
       " 115,\n",
       " 116,\n",
       " 111,\n",
       " 103,\n",
       " 114,\n",
       " 97,\n",
       " 109,\n",
       " 10,\n",
       " 35,\n",
       " 35,\n",
       " 35,\n",
       " 35,\n",
       " 35,\n",
       " 32,\n",
       " 71,\n",
       " 114,\n",
       " 97,\n",
       " 100,\n",
       " 117,\n",
       " 97,\n",
       " 116,\n",
       " 101,\n",
       " 32,\n",
       " 67,\n",
       " 114,\n",
       " 101,\n",
       " 100,\n",
       " 105,\n",
       " 116,\n",
       " 32,\n",
       " 53,\n",
       " 32,\n",
       " 112,\n",
       " 111,\n",
       " 105,\n",
       " 110,\n",
       " 116,\n",
       " 115,\n",
       " 10,\n",
       " 35,\n",
       " 35,\n",
       " 35,\n",
       " 35,\n",
       " 35,\n",
       " 32,\n",
       " 85,\n",
       " 110,\n",
       " 100,\n",
       " 101,\n",
       " 114,\n",
       " 103,\n",
       " 114,\n",
       " 97,\n",
       " 100,\n",
       " 117,\n",
       " 97,\n",
       " 116,\n",
       " 101,\n",
       " 32,\n",
       " 67,\n",
       " 114,\n",
       " 101,\n",
       " 100,\n",
       " 105,\n",
       " 116,\n",
       " 32,\n",
       " 53,\n",
       " 32,\n",
       " 112,\n",
       " 111,\n",
       " 105,\n",
       " 110,\n",
       " 116,\n",
       " 115,\n",
       " 10,\n",
       " 10,\n",
       " 80,\n",
       " 105,\n",
       " 99,\n",
       " 107,\n",
       " 32,\n",
       " 97,\n",
       " 32,\n",
       " 100,\n",
       " 97,\n",
       " 116,\n",
       " 97,\n",
       " 115,\n",
       " 101,\n",
       " 116,\n",
       " 32,\n",
       " 111,\n",
       " 102,\n",
       " 32,\n",
       " 121,\n",
       " 111,\n",
       " 117,\n",
       " 114,\n",
       " 32,\n",
       " 99,\n",
       " 104,\n",
       " 111,\n",
       " 105,\n",
       " 99,\n",
       " 101,\n",
       " 32,\n",
       " 97,\n",
       " 110,\n",
       " 100,\n",
       " 32,\n",
       " 112,\n",
       " 108,\n",
       " 111,\n",
       " 116,\n",
       " 32,\n",
       " 97,\n",
       " 32,\n",
       " 104,\n",
       " 105,\n",
       " 115,\n",
       " 116,\n",
       " 111,\n",
       " 103,\n",
       " 114,\n",
       " 97,\n",
       " 109,\n",
       " 32,\n",
       " 117,\n",
       " 115,\n",
       " 105,\n",
       " 110,\n",
       " 103,\n",
       " 32,\n",
       " 97,\n",
       " 32,\n",
       " 108,\n",
       " 105,\n",
       " 98,\n",
       " 114,\n",
       " 97,\n",
       " 114,\n",
       " 121,\n",
       " 32,\n",
       " 111,\n",
       " 102,\n",
       " 32,\n",
       " 121,\n",
       " 111,\n",
       " 117,\n",
       " 114,\n",
       " 32,\n",
       " 99,\n",
       " 104,\n",
       " 111,\n",
       " 105,\n",
       " 99,\n",
       " 101,\n",
       " 58,\n",
       " 10,\n",
       " 10,\n",
       " 42,\n",
       " 32,\n",
       " 83,\n",
       " 101,\n",
       " 97,\n",
       " 98,\n",
       " 111,\n",
       " 114,\n",
       " 110,\n",
       " 10,\n",
       " 42,\n",
       " 32,\n",
       " 77,\n",
       " 97,\n",
       " 116,\n",
       " 112,\n",
       " 108,\n",
       " 111,\n",
       " 116,\n",
       " 108,\n",
       " 105,\n",
       " 98,\n",
       " 10,\n",
       " 42,\n",
       " 32,\n",
       " 80,\n",
       " 108,\n",
       " 111,\n",
       " 116,\n",
       " 108,\n",
       " 121,\n",
       " 10,\n",
       " 42,\n",
       " 32,\n",
       " 66,\n",
       " 111,\n",
       " 107,\n",
       " 101,\n",
       " 104,\n",
       " 10,\n",
       " 10,\n",
       " 83,\n",
       " 116,\n",
       " 121,\n",
       " 108,\n",
       " 101,\n",
       " 32,\n",
       " 121,\n",
       " 111,\n",
       " 117,\n",
       " 114,\n",
       " 32,\n",
       " 112,\n",
       " 108,\n",
       " 111,\n",
       " 116,\n",
       " 32,\n",
       " 97,\n",
       " 110,\n",
       " 100,\n",
       " 32,\n",
       " 110,\n",
       " 97,\n",
       " 109,\n",
       " 101,\n",
       " 44,\n",
       " 32,\n",
       " 110,\n",
       " 97,\n",
       " 109,\n",
       " 101,\n",
       " 32,\n",
       " 121,\n",
       " 111,\n",
       " 117,\n",
       " 114,\n",
       " 32,\n",
       " 97,\n",
       " 120,\n",
       " 101,\n",
       " 115,\n",
       " 32,\n",
       " 97,\n",
       " 110,\n",
       " 100,\n",
       " 32,\n",
       " 103,\n",
       " 105,\n",
       " 118,\n",
       " 101,\n",
       " 32,\n",
       " 105,\n",
       " 116,\n",
       " 32,\n",
       " 97,\n",
       " 32,\n",
       " 116,\n",
       " 105,\n",
       " 116,\n",
       " 108,\n",
       " 101,\n",
       " 46,\n",
       " 10,\n",
       " 73,\n",
       " 110,\n",
       " 32,\n",
       " 111,\n",
       " 114,\n",
       " 100,\n",
       " 101,\n",
       " 114,\n",
       " 32,\n",
       " 116,\n",
       " 111,\n",
       " 32,\n",
       " 103,\n",
       " 101,\n",
       " 116,\n",
       " 32,\n",
       " 99,\n",
       " 114,\n",
       " 101,\n",
       " 100,\n",
       " 105,\n",
       " 116,\n",
       " 32,\n",
       " 121,\n",
       " 111,\n",
       " 117,\n",
       " 32,\n",
       " 110,\n",
       " 101,\n",
       " 101,\n",
       " 100,\n",
       " 32,\n",
       " 116,\n",
       " 111,\n",
       " 32,\n",
       " 101,\n",
       " 120,\n",
       " 101,\n",
       " 99,\n",
       " 117,\n",
       " 116,\n",
       " 101,\n",
       " 32,\n",
       " 121,\n",
       " 111,\n",
       " 117,\n",
       " 114,\n",
       " 32,\n",
       " 110,\n",
       " 111,\n",
       " 116,\n",
       " 101,\n",
       " 98,\n",
       " 111,\n",
       " 111,\n",
       " 107,\n",
       " 32,\n",
       " 97,\n",
       " 110,\n",
       " 100,\n",
       " 32,\n",
       " 101,\n",
       " 110,\n",
       " 115,\n",
       " 117,\n",
       " 114,\n",
       " 101,\n",
       " 32,\n",
       " 116,\n",
       " 104,\n",
       " 97,\n",
       " 116,\n",
       " 32,\n",
       " 121,\n",
       " 111,\n",
       " 117,\n",
       " 114,\n",
       " 32,\n",
       " 112,\n",
       " 100,\n",
       " 102,\n",
       " 32,\n",
       " 105,\n",
       " 110,\n",
       " 99,\n",
       " 108,\n",
       " 117,\n",
       " 100,\n",
       " 101,\n",
       " 115,\n",
       " 32,\n",
       " 121,\n",
       " 111,\n",
       " 117,\n",
       " 114,\n",
       " 32,\n",
       " 99,\n",
       " 111,\n",
       " 100,\n",
       " 101,\n",
       " 32,\n",
       " 97,\n",
       " 110,\n",
       " 100,\n",
       " 32,\n",
       " 104,\n",
       " 105,\n",
       " 115,\n",
       " 116,\n",
       " 111,\n",
       " 103,\n",
       " 114,\n",
       " 97,\n",
       " 109,\n",
       " 46,\n",
       " 10,\n",
       " 10,\n",
       " 89,\n",
       " 111,\n",
       " 117,\n",
       " 114,\n",
       " 32,\n",
       " 100,\n",
       " 97,\n",
       " 116,\n",
       " 97,\n",
       " 115,\n",
       " 101,\n",
       " 116,\n",
       " 32,\n",
       " 77,\n",
       " 85,\n",
       " 83,\n",
       " 84,\n",
       " 32,\n",
       " 98,\n",
       " 101,\n",
       " 32,\n",
       " 108,\n",
       " 111,\n",
       " 97,\n",
       " 100,\n",
       " 101,\n",
       " 100,\n",
       " 32,\n",
       " 102,\n",
       " 114,\n",
       " 111,\n",
       " 109,\n",
       " 32,\n",
       " 97,\n",
       " 32,\n",
       " 102,\n",
       " 105,\n",
       " 108,\n",
       " 101,\n",
       " 46]"
      ]
     },
     "execution_count": 7,
     "metadata": {},
     "output_type": "execute_result"
    }
   ],
   "source": [
    "data"
   ]
  },
  {
   "cell_type": "markdown",
   "metadata": {},
   "source": [
    "I went here to find documentation on matplotlib histograms: http://matplotlib.org/1.2.1/examples/pylab_examples/histogram_demo.html"
   ]
  },
  {
   "cell_type": "code",
   "execution_count": 8,
   "metadata": {
    "collapsed": false
   },
   "outputs": [
    {
     "data": {
      "image/png": "[encoded data removed]",
      "text/plain": [
       "<matplotlib.figure.Figure at 0x1117b4208>"
      ]
     },
     "metadata": {},
     "output_type": "display_data"
    }
   ],
   "source": [
    "import numpy as np\n",
    "import matplotlib.mlab as mlab\n",
    "import matplotlib.pyplot as plt\n",
    "\n",
    "mu, sigma = 100, 15\n",
    "x = mu + sigma*np.random.randn(10000)\n",
    "\n",
    "# the histogram of the data\n",
    "#n, bins, patches = plt.hist(x, 50, normed=1, facecolor='green', alpha=0.75)\n",
    "n, bins, patches = plt.hist(x, normed=1, facecolor='green', alpha=0.75)\n",
    "# add a 'best fit' line\n",
    "y = mlab.normpdf( bins, mu, sigma)\n",
    "l = plt.plot(bins, y, 'r--', linewidth=1)\n",
    "\n",
    "plt.xlabel('Smarts')\n",
    "plt.ylabel('Probability')\n",
    "plt.title(r'$\\mathrm{Histogram\\ of\\ IQ:}\\ \\mu=100,\\ \\sigma=15$')\n",
    "plt.title(\"MY TITLE\")\n",
    "plt.axis([40, 160, 0, 0.03])\n",
    "plt.grid(True)\n",
    "\n",
    "plt.show()"
   ]
  },
  {
   "cell_type": "code",
   "execution_count": 9,
   "metadata": {
    "collapsed": true
   },
   "outputs": [],
   "source": [
    "plt.hist?"
   ]
  },
  {
   "cell_type": "markdown",
   "metadata": {},
   "source": [
    "Now, let's pick apart what we actually need:"
   ]
  },
  {
   "cell_type": "code",
   "execution_count": 10,
   "metadata": {
    "collapsed": false
   },
   "outputs": [
    {
     "data": {
      "image/png": "[encoded data removed]",
      "text/plain": [
       "<matplotlib.figure.Figure at 0x10f759fd0>"
      ]
     },
     "metadata": {},
     "output_type": "display_data"
    }
   ],
   "source": [
    "import numpy as np\n",
    "import matplotlib.mlab as mlab\n",
    "import matplotlib.pyplot as plt\n",
    "\n",
    "# this is where they generate their data, but we've already got data.\n",
    "## mu, sigma = 100, 15\n",
    "## x = mu + sigma*np.random.randn(10000)\n",
    "\n",
    "# the histogram of the data\n",
    "n, bins, patches = plt.hist(x, 50, normed=1, facecolor='green', alpha=0.75)\n",
    "\n",
    "# This is adding the normal line overlay\n",
    "## y = mlab.normpdf( bins, mu, sigma)\n",
    "## l = plt.plot(bins, y, 'r--', linewidth=1)\n",
    "\n",
    "# labeling the x and y axes, and giving a title to the \n",
    "plt.xlabel('Smarts')\n",
    "plt.ylabel('Probability')\n",
    "plt.title(r'$\\mathrm{Histogram\\ of\\ IQ:}\\ \\mu=100,\\ \\sigma=15$')\n",
    "\n",
    "# setting the bounds on the histogram axis.  This will be done automatically,\n",
    "# but you can override the choices made by matplotlib.\n",
    "plt.axis([40, 160, 0, 0.03])\n",
    "\n",
    "# Do you want a fancy grid in the background?  This defaults to True\n",
    "plt.grid(True)\n",
    "\n",
    "# What is the significance of plt.show?\n",
    "#plt.show()"
   ]
  },
  {
   "cell_type": "code",
   "execution_count": 11,
   "metadata": {
    "collapsed": true
   },
   "outputs": [],
   "source": [
    "plt.hist?"
   ]
  },
  {
   "cell_type": "code",
   "execution_count": 12,
   "metadata": {
    "collapsed": true
   },
   "outputs": [],
   "source": [
    "plt.show?"
   ]
  },
  {
   "cell_type": "markdown",
   "metadata": {},
   "source": [
    "Now I want to do this with my data:"
   ]
  },
  {
   "cell_type": "code",
   "execution_count": 13,
   "metadata": {
    "collapsed": false
   },
   "outputs": [
    {
     "data": {
      "image/png": "[encoded data removed]",
      "text/plain": [
       "<matplotlib.figure.Figure at 0x113f23588>"
      ]
     },
     "metadata": {},
     "output_type": "display_data"
    }
   ],
   "source": [
    "# the histogram of the data\n",
    "n, bins, patches = plt.hist(data, 50, normed=1, facecolor='blue', alpha=0.75)\n",
    "\n",
    "# labeling the x and y axes, and giving a title to the \n",
    "plt.xlabel('Ascii values')\n",
    "plt.ylabel('Probability')\n",
    "\n",
    "# note that the $ allows us to embed LaTeX in our title name\n",
    "plt.title(r'$\\mathrm{Histogram\\ of\\ Ascii\\ values:}$')\n",
    "\n",
    "# setting the bounds on the histogram axis.  This will be done automatically,\n",
    "# but you can override the choices made by matplotlib.\n",
    "# plt.axis([40, 160, 0, 0.03])\n",
    "\n",
    "# Do you want a fancy grid in the background?  This defaults to True\n",
    "plt.grid(True)\n",
    "\n",
    "# What is the significance of plt.show?\n",
    "#plt.show()"
   ]
  },
  {
   "cell_type": "markdown",
   "metadata": {},
   "source": [
    "But alas, Nenad wants style in his histograms.\n",
    "http://matplotlib.org/users/style_sheets.html\n",
    "\n",
    "Apparently, style can involve a lot of things: http://matplotlib.org/users/customizing.html.  For now, you might want to read this page, and then come up with a style you like on your own time.  Me, I've come up with styles I like when I code in R, but in Python, I'm still mostly using the defaults."
   ]
  },
  {
   "cell_type": "code",
   "execution_count": 14,
   "metadata": {
    "collapsed": false
   },
   "outputs": [
    {
     "data": {
      "image/png": "[encoded data removed]",
      "text/plain": [
       "<matplotlib.figure.Figure at 0x113f4b6d8>"
      ]
     },
     "metadata": {},
     "output_type": "display_data"
    }
   ],
   "source": [
    "plt.style.use('dark_background')\n",
    "\n",
    "# the histogram of the data\n",
    "n, bins, patches = plt.hist(data, 50, normed=1, facecolor='blue', alpha=0.75)\n",
    "\n",
    "# labeling the x and y axes, and giving a title to the \n",
    "plt.xlabel('Ascii values')\n",
    "plt.ylabel('Probability')\n",
    "\n",
    "# note that the $ allows us to embed LaTeX in our title name\n",
    "plt.title(r'$\\mathrm{Histogram\\ of\\ Ascii\\ values:}$')\n",
    "\n",
    "# setting the bounds on the histogram axis.  This will be done automatically,\n",
    "# but you can override the choices made by matplotlib.\n",
    "# plt.axis([40, 160, 0, 0.03])\n",
    "\n",
    "# Do you want a fancy grid in the background?  This defaults to True\n",
    "plt.grid(True)\n",
    "\n",
    "# What is the significance of plt.show?\n",
    "#plt.show()"
   ]
  },
  {
   "cell_type": "markdown",
   "metadata": {},
   "source": [
    "Um, maybe not the best styling.  At very least I need a new histogram color."
   ]
  },
  {
   "cell_type": "code",
   "execution_count": 15,
   "metadata": {
    "collapsed": false
   },
   "outputs": [
    {
     "data": {
      "text/plain": [
       "['seaborn-colorblind',\n",
       " 'seaborn-dark-palette',\n",
       " 'seaborn-whitegrid',\n",
       " 'seaborn-talk',\n",
       " 'seaborn-ticks',\n",
       " 'seaborn-white',\n",
       " 'grayscale',\n",
       " 'bmh',\n",
       " 'dark_background',\n",
       " 'seaborn-poster',\n",
       " 'seaborn-darkgrid',\n",
       " 'seaborn-pastel',\n",
       " 'seaborn-paper',\n",
       " 'seaborn-bright',\n",
       " 'classic',\n",
       " 'seaborn-dark',\n",
       " 'ggplot',\n",
       " 'seaborn-deep',\n",
       " 'fivethirtyeight',\n",
       " 'seaborn-muted',\n",
       " 'seaborn',\n",
       " 'seaborn-notebook']"
      ]
     },
     "execution_count": 15,
     "metadata": {},
     "output_type": "execute_result"
    }
   ],
   "source": [
    "plt.style.available"
   ]
  },
  {
   "cell_type": "code",
   "execution_count": 16,
   "metadata": {
    "collapsed": false
   },
   "outputs": [
    {
     "data": {
      "image/png": "[encoded data removed]",
      "text/plain": [
       "<matplotlib.figure.Figure at 0x116f4e2b0>"
      ]
     },
     "metadata": {},
     "output_type": "display_data"
    }
   ],
   "source": [
    "plt.style.use('seaborn-white')\n",
    "\n",
    "# the histogram of the data\n",
    "n, bins, patches = plt.hist(data, 50, normed=1, facecolor='blue', alpha=0.75)\n",
    "\n",
    "# labeling the x and y axes, and giving a title to the \n",
    "plt.xlabel('Ascii values')\n",
    "plt.ylabel('Probability')\n",
    "\n",
    "# note that the $ allows us to embed LaTeX in our title name\n",
    "plt.title(r'$\\mathrm{Histogram\\ of\\ Ascii\\ values:}$')\n",
    "\n",
    "# setting the bounds on the histogram axis.  This will be done automatically,\n",
    "# but you can override the choices made by matplotlib.\n",
    "# plt.axis([40, 160, 0, 0.03])\n",
    "\n",
    "# Do you want a fancy grid in the background?  This defaults to True\n",
    "plt.grid(True)\n",
    "\n",
    "\n",
    "plt.show()\n",
    "\n",
    "# What is the significance of plt.show?\n",
    "#plt.show()"
   ]
  },
  {
   "cell_type": "code",
   "execution_count": 17,
   "metadata": {
    "collapsed": true
   },
   "outputs": [],
   "source": [
    "plt.title?"
   ]
  },
  {
   "cell_type": "markdown",
   "metadata": {},
   "source": [
    "## plotly\n",
    "\n",
    "https://plot.ly/python/histograms/"
   ]
  },
  {
   "cell_type": "markdown",
   "metadata": {},
   "source": [
    "## bokeh"
   ]
  },
  {
   "cell_type": "markdown",
   "metadata": {},
   "source": [
    "## seaborn\n",
    "\n",
    "http://seaborn.pydata.org/generated/seaborn.distplot.html"
   ]
  },
  {
   "cell_type": "code",
   "execution_count": 18,
   "metadata": {
    "collapsed": false
   },
   "outputs": [
    {
     "data": {
      "image/png": "[encoded data removed]",
      "text/plain": [
       "<matplotlib.figure.Figure at 0x10a400ac8>"
      ]
     },
     "metadata": {},
     "output_type": "display_data"
    }
   ],
   "source": [
    "plt.style.use(\"seaborn\")\n",
    "\n",
    "from scipy.stats import norm\n",
    "ax = sns.distplot(data, fit=norm, kde=False)"
   ]
  },
  {
   "cell_type": "code",
   "execution_count": 19,
   "metadata": {
    "collapsed": false
   },
   "outputs": [
    {
     "data": {
      "image/png": "[encoded data removed]",
      "text/plain": [
       "<matplotlib.figure.Figure at 0x1169b7208>"
      ]
     },
     "metadata": {},
     "output_type": "display_data"
    }
   ],
   "source": [
    "plt.style.use(\"ggplot\")\n",
    "\n",
    "from scipy.stats import norm\n",
    "ax = sns.distplot(data, kde=False)"
   ]
  },
  {
   "cell_type": "markdown",
   "metadata": {},
   "source": [
    "## Problem 2\n",
    "#### Nenad\n",
    "# Pie Chart\n",
    "##### Graduate Credit 5 points\n",
    "##### Undergraduate Credit 5 points\n",
    "\n",
    "Pick a dataset of your choice and plot a piechart using a library of your choice:\n",
    "\n",
    "* Seaborn\n",
    "* Matplotlib\n",
    "* Plotly\n",
    "* Bokeh\n",
    "\n",
    "## Style it using the Google logo colors.\n",
    "## Give your chart a name.\n",
    "## Include a legend.\n",
    "\n",
    "In order to get credit you need to execute your notebook and ensure that your pdf includes your code and histogram.\n",
    "\n",
    "### Your dataset MUST be loaded from a file."
   ]
  },
  {
   "cell_type": "code",
   "execution_count": 21,
   "metadata": {
    "collapsed": true
   },
   "outputs": [],
   "source": [
    "#the code for your cool and possibly interactive pie chart here"
   ]
  },
  {
   "cell_type": "code",
   "execution_count": 25,
   "metadata": {
    "collapsed": false
   },
   "outputs": [
    {
     "data": {
      "image/png": "[encoded data removed]",
      "text/plain": [
       "<matplotlib.figure.Figure at 0x10f72e4e0>"
      ]
     },
     "metadata": {},
     "output_type": "display_data"
    }
   ],
   "source": [
    "# https://pythonprogramming.net/pie-chart-matplotlib-tutorial/\n",
    "\n",
    "slices = [2,2,1,1]\n",
    "activities = ['Blue','Red','Yellow','Green']\n",
    "cols = ['b','r','y','g']\n",
    "\n",
    "plt.pie(slices,\n",
    "        labels=activities,\n",
    "        colors=cols,\n",
    "        startangle=90,\n",
    "        shadow= False,\n",
    "        explode=(0,0.1,0,0),\n",
    "        autopct='%1.1f%%')\n",
    "\n",
    "plt.title('Crappy Graph!\\nI hate this assignment')\n",
    "\n",
    "import matplotlib.lines as mlines\n",
    "\n",
    "blue_line = mlines.Line2D([], [], color='blue',\n",
    "                          markersize=15, label='Big and little G')\n",
    "red_line = mlines.Line2D([], [], color='red',\n",
    "                          markersize=15, label='First O and E')\n",
    "yellow_line = mlines.Line2D([], [], color='yellow',\n",
    "                          markersize=15, label='Second O ')\n",
    "green_line = mlines.Line2D([], [], color='green',\n",
    "                          markersize=15, label='Only L')\n",
    "\n",
    "plt.legend(handles=[blue_line,red_line,yellow_line,green_line])\n",
    "\n",
    "plt.show()"
   ]
  },
  {
   "cell_type": "code",
   "execution_count": 30,
   "metadata": {
    "collapsed": false
   },
   "outputs": [
    {
     "data": {
      "image/png": "[encoded data removed]",
      "text/plain": [
       "<matplotlib.figure.Figure at 0x116b1f198>"
      ]
     },
     "metadata": {},
     "output_type": "display_data"
    }
   ],
   "source": [
    "# https://pythonprogramming.net/pie-chart-matplotlib-tutorial/\n",
    "\n",
    "slices = [2,2,1,1]\n",
    "#activities = ['Blue','Red','Yellow','Green']\n",
    "cols = ['b','r','y','g']\n",
    "\n",
    "plt.pie(slices,\n",
    "        #labels=activities,\n",
    "        colors=cols,\n",
    "        startangle=90,\n",
    "        shadow= False,\n",
    "        explode=(0,0.1,0,0),\n",
    "        autopct='%1.1f%%')\n",
    "\n",
    "plt.title('Crappy Graph!\\nI hate this assignment')\n",
    "\n",
    "import matplotlib.patches as mpatch\n",
    "\n",
    "blue_patch = mpatch.Patch(color='blue', label='Big and little G')\n",
    "red_patch = mpatch.Patch(color='red', label='First O and E')\n",
    "yellow_patch = mpatch.Patch(color='yellow', label='Second O ')\n",
    "green_patch = mpatch.Patch(color='green',label='Only L')\n",
    "\n",
    "plt.legend(handles=[blue_patch,red_patch,yellow_patch,green_patch])\n",
    "\n",
    "plt.show()"
   ]
  },
  {
   "cell_type": "code",
   "execution_count": 31,
   "metadata": {
    "collapsed": false
   },
   "outputs": [
    {
     "data": {
      "image/png": "[encoded data removed]",
      "text/plain": [
       "<matplotlib.figure.Figure at 0x1171e61d0>"
      ]
     },
     "metadata": {},
     "output_type": "display_data"
    }
   ],
   "source": [
    "# https://pythonprogramming.net/pie-chart-matplotlib-tutorial/\n",
    "\n",
    "slices = [2,2,1,1]\n",
    "#activities = ['Blue','Red','Yellow','Green']\n",
    "cols = ['b','r','y','g']\n",
    "\n",
    "plt.pie(slices,\n",
    "        #labels=activities,\n",
    "        colors=cols,\n",
    "        startangle=90,\n",
    "        shadow= False,\n",
    "        explode=(0,0.1,0,0),\n",
    "        autopct='%1.1f%%')\n",
    "\n",
    "plt.title('Crappy Graph!\\nI hate this assignment')\n",
    "\n",
    "import matplotlib.patches as mpatch\n",
    "\n",
    "blue_patch = mpatch.Patch(color='blue', label='Big and little G')\n",
    "red_patch = mpatch.Patch(color='red', label='First O and E')\n",
    "yellow_patch = mpatch.Patch(color='yellow', label='Second O ')\n",
    "green_patch = mpatch.Patch(color='green',label='Only L')\n",
    "\n",
    "plt.legend(handles=[blue_patch,red_patch,yellow_patch,green_patch],loc = 2)\n",
    "\n",
    "plt.show()"
   ]
  },
  {
   "cell_type": "code",
   "execution_count": 39,
   "metadata": {
    "collapsed": false
   },
   "outputs": [
    {
     "data": {
      "image/png": "[encoded data removed]",
      "text/plain": [
       "<matplotlib.figure.Figure at 0x10f7db898>"
      ]
     },
     "metadata": {},
     "output_type": "display_data"
    }
   ],
   "source": [
    "# https://pythonprogramming.net/pie-chart-matplotlib-tutorial/\n",
    "\n",
    "slices = [2,2,1,1]\n",
    "#activities = ['Blue','Red','Yellow','Green']\n",
    "cols = ['b','r','y','g']\n",
    "\n",
    "plt.pie(slices,\n",
    "        #labels=activities,\n",
    "        colors=cols,\n",
    "        startangle=90,\n",
    "        shadow= False,\n",
    "        explode=(0,0.1,0,0),\n",
    "        autopct='%1.1f%%')\n",
    "\n",
    "plt.title('Crappy Graph!\\nI hate this assignment')\n",
    "\n",
    "import matplotlib.patches as mpatch\n",
    "\n",
    "blue_patch = mpatch.Patch(color='blue', label='Big and little G')\n",
    "red_patch = mpatch.Patch(color='red', label='First O and E')\n",
    "yellow_patch = mpatch.Patch(color='yellow', label='Second O ')\n",
    "green_patch = mpatch.Patch(color='green',label='Only L')\n",
    "\n",
    "plt.legend(handles=[blue_patch,red_patch,yellow_patch,green_patch],\n",
    "           loc = 4,\n",
    "          bbox_to_anchor=(1.05, 1))\n",
    "\n",
    "plt.show()"
   ]
  },
  {
   "cell_type": "code",
   "execution_count": 41,
   "metadata": {
    "collapsed": false
   },
   "outputs": [
    {
     "ename": "ValueError",
     "evalue": "could not convert string to float: 'blue'",
     "output_type": "error",
     "traceback": [
      "\u001b[0;31m---------------------------------------------------------------------------\u001b[0m",
      "\u001b[0;31mTypeError\u001b[0m                                 Traceback (most recent call last)",
      "\u001b[0;32m/Users/multiuser/anaconda/envs/python3/lib/python3.5/site-packages/matplotlib/colors.py\u001b[0m in \u001b[0;36mto_rgba\u001b[0;34m(c, alpha)\u001b[0m\n\u001b[1;32m    140\u001b[0m     \u001b[0;32mtry\u001b[0m\u001b[0;34m:\u001b[0m\u001b[0;34m\u001b[0m\u001b[0m\n\u001b[0;32m--> 141\u001b[0;31m         \u001b[0mrgba\u001b[0m \u001b[0;34m=\u001b[0m \u001b[0m_colors_full_map\u001b[0m\u001b[0;34m.\u001b[0m\u001b[0mcache\u001b[0m\u001b[0;34m[\u001b[0m\u001b[0mc\u001b[0m\u001b[0;34m,\u001b[0m \u001b[0malpha\u001b[0m\u001b[0;34m]\u001b[0m\u001b[0;34m\u001b[0m\u001b[0m\n\u001b[0m\u001b[1;32m    142\u001b[0m     \u001b[0;32mexcept\u001b[0m \u001b[0;34m(\u001b[0m\u001b[0mKeyError\u001b[0m\u001b[0;34m,\u001b[0m \u001b[0mTypeError\u001b[0m\u001b[0;34m)\u001b[0m\u001b[0;34m:\u001b[0m  \u001b[0;31m# Not in cache, or unhashable.\u001b[0m\u001b[0;34m\u001b[0m\u001b[0m\n",
      "\u001b[0;31mTypeError\u001b[0m: unhashable type: 'list'",
      "\nDuring handling of the above exception, another exception occurred:\n",
      "\u001b[0;31mValueError\u001b[0m                                Traceback (most recent call last)",
      "\u001b[0;32m<ipython-input-41-e00631cd0994>\u001b[0m in \u001b[0;36m<module>\u001b[0;34m()\u001b[0m\n\u001b[1;32m     18\u001b[0m \u001b[0;34m\u001b[0m\u001b[0m\n\u001b[1;32m     19\u001b[0m patches = mpatch.Patch(color = [\"blue\",\"red\",\"yellow\",\"green\"],\n\u001b[0;32m---> 20\u001b[0;31m                       label = [\"One\",\"Two\",\"Three\",\"Four\"])\n\u001b[0m\u001b[1;32m     21\u001b[0m \u001b[0;31m# blue_patch = mpatch.Patch(color='blue', label='Big and little G')\u001b[0m\u001b[0;34m\u001b[0m\u001b[0;34m\u001b[0m\u001b[0m\n\u001b[1;32m     22\u001b[0m \u001b[0;31m# red_patch = mpatch.Patch(color='red', label='First O and E')\u001b[0m\u001b[0;34m\u001b[0m\u001b[0;34m\u001b[0m\u001b[0m\n",
      "\u001b[0;32m/Users/multiuser/anaconda/envs/python3/lib/python3.5/site-packages/matplotlib/patches.py\u001b[0m in \u001b[0;36m__init__\u001b[0;34m(self, edgecolor, facecolor, color, linewidth, linestyle, antialiased, hatch, fill, capstyle, joinstyle, **kwargs)\u001b[0m\n\u001b[1;32m    120\u001b[0m                 warnings.warn(\"Setting the 'color' property will override\"\n\u001b[1;32m    121\u001b[0m                               \"the edgecolor or facecolor properties. \")\n\u001b[0;32m--> 122\u001b[0;31m             \u001b[0mself\u001b[0m\u001b[0;34m.\u001b[0m\u001b[0mset_color\u001b[0m\u001b[0;34m(\u001b[0m\u001b[0mcolor\u001b[0m\u001b[0;34m)\u001b[0m\u001b[0;34m\u001b[0m\u001b[0m\n\u001b[0m\u001b[1;32m    123\u001b[0m         \u001b[0;32melse\u001b[0m\u001b[0;34m:\u001b[0m\u001b[0;34m\u001b[0m\u001b[0m\n\u001b[1;32m    124\u001b[0m             \u001b[0mself\u001b[0m\u001b[0;34m.\u001b[0m\u001b[0mset_edgecolor\u001b[0m\u001b[0;34m(\u001b[0m\u001b[0medgecolor\u001b[0m\u001b[0;34m)\u001b[0m\u001b[0;34m\u001b[0m\u001b[0m\n",
      "\u001b[0;32m/Users/multiuser/anaconda/envs/python3/lib/python3.5/site-packages/matplotlib/patches.py\u001b[0m in \u001b[0;36mset_color\u001b[0;34m(self, c)\u001b[0m\n\u001b[1;32m    342\u001b[0m                \u001b[0mFor\u001b[0m \u001b[0msetting\u001b[0m \u001b[0mthe\u001b[0m \u001b[0medge\u001b[0m \u001b[0;32mor\u001b[0m \u001b[0mface\u001b[0m \u001b[0mcolor\u001b[0m \u001b[0mindividually\u001b[0m\u001b[0;34m.\u001b[0m\u001b[0;34m\u001b[0m\u001b[0m\n\u001b[1;32m    343\u001b[0m         \"\"\"\n\u001b[0;32m--> 344\u001b[0;31m         \u001b[0mself\u001b[0m\u001b[0;34m.\u001b[0m\u001b[0mset_facecolor\u001b[0m\u001b[0;34m(\u001b[0m\u001b[0mc\u001b[0m\u001b[0;34m)\u001b[0m\u001b[0;34m\u001b[0m\u001b[0m\n\u001b[0m\u001b[1;32m    345\u001b[0m         \u001b[0mself\u001b[0m\u001b[0;34m.\u001b[0m\u001b[0mset_edgecolor\u001b[0m\u001b[0;34m(\u001b[0m\u001b[0mc\u001b[0m\u001b[0;34m)\u001b[0m\u001b[0;34m\u001b[0m\u001b[0m\n\u001b[1;32m    346\u001b[0m \u001b[0;34m\u001b[0m\u001b[0m\n",
      "\u001b[0;32m/Users/multiuser/anaconda/envs/python3/lib/python3.5/site-packages/matplotlib/patches.py\u001b[0m in \u001b[0;36mset_facecolor\u001b[0;34m(self, color)\u001b[0m\n\u001b[1;32m    325\u001b[0m         \"\"\"\n\u001b[1;32m    326\u001b[0m         \u001b[0mself\u001b[0m\u001b[0;34m.\u001b[0m\u001b[0m_original_facecolor\u001b[0m \u001b[0;34m=\u001b[0m \u001b[0mcolor\u001b[0m\u001b[0;34m\u001b[0m\u001b[0m\n\u001b[0;32m--> 327\u001b[0;31m         \u001b[0mself\u001b[0m\u001b[0;34m.\u001b[0m\u001b[0m_set_facecolor\u001b[0m\u001b[0;34m(\u001b[0m\u001b[0mcolor\u001b[0m\u001b[0;34m)\u001b[0m\u001b[0;34m\u001b[0m\u001b[0m\n\u001b[0m\u001b[1;32m    328\u001b[0m \u001b[0;34m\u001b[0m\u001b[0m\n\u001b[1;32m    329\u001b[0m     \u001b[0;32mdef\u001b[0m \u001b[0mset_fc\u001b[0m\u001b[0;34m(\u001b[0m\u001b[0mself\u001b[0m\u001b[0;34m,\u001b[0m \u001b[0mcolor\u001b[0m\u001b[0;34m)\u001b[0m\u001b[0;34m:\u001b[0m\u001b[0;34m\u001b[0m\u001b[0m\n",
      "\u001b[0;32m/Users/multiuser/anaconda/envs/python3/lib/python3.5/site-packages/matplotlib/patches.py\u001b[0m in \u001b[0;36m_set_facecolor\u001b[0;34m(self, color)\u001b[0m\n\u001b[1;32m    315\u001b[0m             \u001b[0mcolor\u001b[0m \u001b[0;34m=\u001b[0m \u001b[0mmpl\u001b[0m\u001b[0;34m.\u001b[0m\u001b[0mrcParams\u001b[0m\u001b[0;34m[\u001b[0m\u001b[0;34m'patch.facecolor'\u001b[0m\u001b[0;34m]\u001b[0m\u001b[0;34m\u001b[0m\u001b[0m\n\u001b[1;32m    316\u001b[0m         \u001b[0malpha\u001b[0m \u001b[0;34m=\u001b[0m \u001b[0mself\u001b[0m\u001b[0;34m.\u001b[0m\u001b[0m_alpha\u001b[0m \u001b[0;32mif\u001b[0m \u001b[0mself\u001b[0m\u001b[0;34m.\u001b[0m\u001b[0m_fill\u001b[0m \u001b[0;32melse\u001b[0m \u001b[0;36m0\u001b[0m\u001b[0;34m\u001b[0m\u001b[0m\n\u001b[0;32m--> 317\u001b[0;31m         \u001b[0mself\u001b[0m\u001b[0;34m.\u001b[0m\u001b[0m_facecolor\u001b[0m \u001b[0;34m=\u001b[0m \u001b[0mcolors\u001b[0m\u001b[0;34m.\u001b[0m\u001b[0mto_rgba\u001b[0m\u001b[0;34m(\u001b[0m\u001b[0mcolor\u001b[0m\u001b[0;34m,\u001b[0m \u001b[0malpha\u001b[0m\u001b[0;34m)\u001b[0m\u001b[0;34m\u001b[0m\u001b[0m\n\u001b[0m\u001b[1;32m    318\u001b[0m         \u001b[0mself\u001b[0m\u001b[0;34m.\u001b[0m\u001b[0mstale\u001b[0m \u001b[0;34m=\u001b[0m \u001b[0;32mTrue\u001b[0m\u001b[0;34m\u001b[0m\u001b[0m\n\u001b[1;32m    319\u001b[0m \u001b[0;34m\u001b[0m\u001b[0m\n",
      "\u001b[0;32m/Users/multiuser/anaconda/envs/python3/lib/python3.5/site-packages/matplotlib/colors.py\u001b[0m in \u001b[0;36mto_rgba\u001b[0;34m(c, alpha)\u001b[0m\n\u001b[1;32m    141\u001b[0m         \u001b[0mrgba\u001b[0m \u001b[0;34m=\u001b[0m \u001b[0m_colors_full_map\u001b[0m\u001b[0;34m.\u001b[0m\u001b[0mcache\u001b[0m\u001b[0;34m[\u001b[0m\u001b[0mc\u001b[0m\u001b[0;34m,\u001b[0m \u001b[0malpha\u001b[0m\u001b[0;34m]\u001b[0m\u001b[0;34m\u001b[0m\u001b[0m\n\u001b[1;32m    142\u001b[0m     \u001b[0;32mexcept\u001b[0m \u001b[0;34m(\u001b[0m\u001b[0mKeyError\u001b[0m\u001b[0;34m,\u001b[0m \u001b[0mTypeError\u001b[0m\u001b[0;34m)\u001b[0m\u001b[0;34m:\u001b[0m  \u001b[0;31m# Not in cache, or unhashable.\u001b[0m\u001b[0;34m\u001b[0m\u001b[0m\n\u001b[0;32m--> 143\u001b[0;31m         \u001b[0mrgba\u001b[0m \u001b[0;34m=\u001b[0m \u001b[0m_to_rgba_no_colorcycle\u001b[0m\u001b[0;34m(\u001b[0m\u001b[0mc\u001b[0m\u001b[0;34m,\u001b[0m \u001b[0malpha\u001b[0m\u001b[0;34m)\u001b[0m\u001b[0;34m\u001b[0m\u001b[0m\n\u001b[0m\u001b[1;32m    144\u001b[0m         \u001b[0;32mtry\u001b[0m\u001b[0;34m:\u001b[0m\u001b[0;34m\u001b[0m\u001b[0m\n\u001b[1;32m    145\u001b[0m             \u001b[0m_colors_full_map\u001b[0m\u001b[0;34m.\u001b[0m\u001b[0mcache\u001b[0m\u001b[0;34m[\u001b[0m\u001b[0mc\u001b[0m\u001b[0;34m,\u001b[0m \u001b[0malpha\u001b[0m\u001b[0;34m]\u001b[0m \u001b[0;34m=\u001b[0m \u001b[0mrgba\u001b[0m\u001b[0;34m\u001b[0m\u001b[0m\n",
      "\u001b[0;32m/Users/multiuser/anaconda/envs/python3/lib/python3.5/site-packages/matplotlib/colors.py\u001b[0m in \u001b[0;36m_to_rgba_no_colorcycle\u001b[0;34m(c, alpha)\u001b[0m\n\u001b[1;32m    190\u001b[0m     \u001b[0;31m# not numpy floats.\u001b[0m\u001b[0;34m\u001b[0m\u001b[0;34m\u001b[0m\u001b[0m\n\u001b[1;32m    191\u001b[0m     \u001b[0;32mtry\u001b[0m\u001b[0;34m:\u001b[0m\u001b[0;34m\u001b[0m\u001b[0m\n\u001b[0;32m--> 192\u001b[0;31m         \u001b[0mc\u001b[0m \u001b[0;34m=\u001b[0m \u001b[0mtuple\u001b[0m\u001b[0;34m(\u001b[0m\u001b[0mmap\u001b[0m\u001b[0;34m(\u001b[0m\u001b[0mfloat\u001b[0m\u001b[0;34m,\u001b[0m \u001b[0mc\u001b[0m\u001b[0;34m)\u001b[0m\u001b[0;34m)\u001b[0m\u001b[0;34m\u001b[0m\u001b[0m\n\u001b[0m\u001b[1;32m    193\u001b[0m     \u001b[0;32mexcept\u001b[0m \u001b[0mTypeError\u001b[0m\u001b[0;34m:\u001b[0m\u001b[0;34m\u001b[0m\u001b[0m\n\u001b[1;32m    194\u001b[0m         \u001b[0;32mraise\u001b[0m \u001b[0mValueError\u001b[0m\u001b[0;34m(\u001b[0m\u001b[0;34m\"Invalid RGBA argument: {!r}\"\u001b[0m\u001b[0;34m.\u001b[0m\u001b[0mformat\u001b[0m\u001b[0;34m(\u001b[0m\u001b[0morig_c\u001b[0m\u001b[0;34m)\u001b[0m\u001b[0;34m)\u001b[0m\u001b[0;34m\u001b[0m\u001b[0m\n",
      "\u001b[0;31mValueError\u001b[0m: could not convert string to float: 'blue'"
     ]
    },
    {
     "data": {
      "image/png": "[encoded data removed]",
      "text/plain": [
       "<matplotlib.figure.Figure at 0x10f792a20>"
      ]
     },
     "metadata": {},
     "output_type": "display_data"
    }
   ],
   "source": [
    "# https://pythonprogramming.net/pie-chart-matplotlib-tutorial/\n",
    "\n",
    "slices = [2,2,1,1]\n",
    "#activities = ['Blue','Red','Yellow','Green']\n",
    "cols = ['b','r','y','g']\n",
    "\n",
    "plt.pie(slices,\n",
    "        #labels=activities,\n",
    "        colors=cols,\n",
    "        startangle=90,\n",
    "        shadow= False,\n",
    "        explode=(0,0.1,0,0),\n",
    "        autopct='%1.1f%%')\n",
    "\n",
    "plt.title('Crappy Graph!\\nI hate this assignment')\n",
    "\n",
    "import matplotlib.patches as mpatch\n",
    "\n",
    "patches = mpatch.Patch(color = [\"blue\",\"red\",\"yellow\",\"green\"],\n",
    "                      label = [\"One\",\"Two\",\"Three\",\"Four\"])\n",
    "# blue_patch = mpatch.Patch(color='blue', label='Big and little G')\n",
    "# red_patch = mpatch.Patch(color='red', label='First O and E')\n",
    "# yellow_patch = mpatch.Patch(color='yellow', label='Second O ')\n",
    "# green_patch = mpatch.Patch(color='green',label='Only L')\n",
    "\n",
    "plt.legend(handles=[patches],\n",
    "           loc = 4,\n",
    "          bbox_to_anchor=(1.05, 1))\n",
    "\n",
    "plt.show()"
   ]
  },
  {
   "cell_type": "code",
   "execution_count": 40,
   "metadata": {
    "collapsed": true
   },
   "outputs": [],
   "source": [
    "mpatch.Patch?"
   ]
  },
  {
   "cell_type": "markdown",
   "metadata": {},
   "source": [
    "## Plotly\n",
    "\n",
    "https://plot.ly/python/pie-charts/"
   ]
  },
  {
   "cell_type": "code",
   "execution_count": 21,
   "metadata": {
    "collapsed": false
   },
   "outputs": [
    {
     "data": {
      "text/html": [
       "<iframe id=\"igraph\" scrolling=\"no\" style=\"border:none;\" seamless=\"seamless\" src=\"https://plot.ly/~jgpalin/30.embed\" height=\"525px\" width=\"100%\"></iframe>"
      ],
      "text/plain": [
       "<plotly.tools.PlotlyDisplay object>"
      ]
     },
     "execution_count": 21,
     "metadata": {},
     "output_type": "execute_result"
    }
   ],
   "source": [
    "import plotly.plotly as py\n",
    "import plotly.graph_objs as go\n",
    "\n",
    "fig = {\n",
    "    'data': [{'labels': ['Big G', 'green o', 'yellow o','little g','l','e'],\n",
    "              'values': [1, 1, 1,1,1,1],\n",
    "              'type': 'pie'}],\n",
    "    'layout': {'title': 'Letters in Google'}\n",
    "     }\n",
    "\n",
    "py.iplot(fig)"
   ]
  },
  {
   "cell_type": "code",
   "execution_count": 3,
   "metadata": {
    "collapsed": false
   },
   "outputs": [
    {
     "data": {
      "text/html": [
       "<iframe id=\"igraph\" scrolling=\"no\" style=\"border:none;\" seamless=\"seamless\" src=\"https://plot.ly/~jgpalin/48.embed\" height=\"525px\" width=\"100%\"></iframe>"
      ],
      "text/plain": [
       "<plotly.tools.PlotlyDisplay object>"
      ]
     },
     "execution_count": 3,
     "metadata": {},
     "output_type": "execute_result"
    }
   ],
   "source": [
    "import plotly.plotly as py\n",
    "import plotly.graph_objs as go\n",
    "\n",
    "\n",
    "with \n",
    "\n",
    "labels = [ \"1\", \"2\", \"3\", \"4\" ]\n",
    "values = [ 1,2,3,4]\n",
    "\n",
    "colors = [\"red\",\"blue\",\"green\",\"yellow\"]\n",
    "title = \" some text \"\n",
    "fig = {\n",
    "    'data': [{'labels': labels,\n",
    "              'values': values,\n",
    "              'type': 'pie',\n",
    "              'marker': {'colors': colors}}],\n",
    "    'layout': {'title': title}\n",
    "     }\n",
    "\n",
    "py.iplot(fig)"
   ]
  },
  {
   "cell_type": "code",
   "execution_count": null,
   "metadata": {
    "collapsed": true
   },
   "outputs": [],
   "source": []
  },
  {
   "cell_type": "code",
   "execution_count": 2,
   "metadata": {
    "collapsed": true
   },
   "outputs": [
    {
     "ename": "PlotlyDictKeyError",
     "evalue": "'title' is not allowed in 'pie'\n\nPath To Error: ['title']\n\nValid attributes for 'pie' at path [] under parents []:\n\n    ['insidetextfont', 'pullsrc', 'hoverinfo', 'textfont', 'stream',\n    'textposition', 'type', 'valuessrc', 'domain', 'textsrc', 'textinfo',\n    'pull', 'text', 'visible', 'direction', 'opacity', 'hovertext',\n    'labels', 'name', 'textpositionsrc', 'hole', 'uid', 'legendgroup',\n    'sort', 'labelssrc', 'values', 'showlegend', 'scalegroup',\n    'outsidetextfont', 'hovertextsrc', 'rotation', 'label0', 'dlabel',\n    'marker']\n\nRun `<pie-object>.help('attribute')` on any of the above.\n'<pie-object>' is the object at []",
     "output_type": "error",
     "traceback": [
      "\u001b[0;31m---------------------------------------------------------------------------\u001b[0m",
      "\u001b[0;31mPlotlyDictKeyError\u001b[0m                        Traceback (most recent call last)",
      "\u001b[0;32m<ipython-input-2-7dd7c4ccce6c>\u001b[0m in \u001b[0;36m<module>\u001b[0;34m()\u001b[0m\n\u001b[1;32m      5\u001b[0m \u001b[0mvalues\u001b[0m\u001b[0;34m=\u001b[0m\u001b[0;34m[\u001b[0m\u001b[0;36m4500\u001b[0m\u001b[0;34m,\u001b[0m\u001b[0;36m2500\u001b[0m\u001b[0;34m,\u001b[0m\u001b[0;36m1053\u001b[0m\u001b[0;34m,\u001b[0m\u001b[0;36m500\u001b[0m\u001b[0;34m]\u001b[0m\u001b[0;34m\u001b[0m\u001b[0m\n\u001b[1;32m      6\u001b[0m \u001b[0;34m\u001b[0m\u001b[0m\n\u001b[0;32m----> 7\u001b[0;31m \u001b[0mtrace\u001b[0m\u001b[0;34m=\u001b[0m\u001b[0mgo\u001b[0m\u001b[0;34m.\u001b[0m\u001b[0mPie\u001b[0m\u001b[0;34m(\u001b[0m\u001b[0mlabels\u001b[0m\u001b[0;34m=\u001b[0m\u001b[0mlabels\u001b[0m\u001b[0;34m,\u001b[0m\u001b[0mvalues\u001b[0m\u001b[0;34m=\u001b[0m\u001b[0mvalues\u001b[0m\u001b[0;34m,\u001b[0m\u001b[0mtitle\u001b[0m \u001b[0;34m=\u001b[0m \u001b[0;34m\"hi mom\"\u001b[0m\u001b[0;34m)\u001b[0m\u001b[0;34m\u001b[0m\u001b[0m\n\u001b[0m\u001b[1;32m      8\u001b[0m \u001b[0;34m\u001b[0m\u001b[0m\n\u001b[1;32m      9\u001b[0m \u001b[0mpy\u001b[0m\u001b[0;34m.\u001b[0m\u001b[0miplot\u001b[0m\u001b[0;34m(\u001b[0m\u001b[0;34m[\u001b[0m\u001b[0mtrace\u001b[0m\u001b[0;34m]\u001b[0m\u001b[0;34m)\u001b[0m\u001b[0;34m\u001b[0m\u001b[0m\n",
      "\u001b[0;32m/Users/multiuser/anaconda/envs/python3/lib/python3.5/site-packages/plotly/graph_objs/graph_objs.py\u001b[0m in \u001b[0;36m__init__\u001b[0;34m(self, *args, **kwargs)\u001b[0m\n\u001b[1;32m    373\u001b[0m         \u001b[0md\u001b[0m \u001b[0;34m=\u001b[0m \u001b[0;34m{\u001b[0m\u001b[0mkey\u001b[0m\u001b[0;34m:\u001b[0m \u001b[0mval\u001b[0m \u001b[0;32mfor\u001b[0m \u001b[0mkey\u001b[0m\u001b[0;34m,\u001b[0m \u001b[0mval\u001b[0m \u001b[0;32min\u001b[0m \u001b[0mdict\u001b[0m\u001b[0;34m(\u001b[0m\u001b[0;34m*\u001b[0m\u001b[0margs\u001b[0m\u001b[0;34m,\u001b[0m \u001b[0;34m**\u001b[0m\u001b[0mkwargs\u001b[0m\u001b[0;34m)\u001b[0m\u001b[0;34m.\u001b[0m\u001b[0mitems\u001b[0m\u001b[0;34m(\u001b[0m\u001b[0;34m)\u001b[0m\u001b[0;34m}\u001b[0m\u001b[0;34m\u001b[0m\u001b[0m\n\u001b[1;32m    374\u001b[0m         \u001b[0;32mfor\u001b[0m \u001b[0mkey\u001b[0m\u001b[0;34m,\u001b[0m \u001b[0mval\u001b[0m \u001b[0;32min\u001b[0m \u001b[0md\u001b[0m\u001b[0;34m.\u001b[0m\u001b[0mitems\u001b[0m\u001b[0;34m(\u001b[0m\u001b[0;34m)\u001b[0m\u001b[0;34m:\u001b[0m\u001b[0;34m\u001b[0m\u001b[0m\n\u001b[0;32m--> 375\u001b[0;31m             \u001b[0mself\u001b[0m\u001b[0;34m.\u001b[0m\u001b[0m__setitem__\u001b[0m\u001b[0;34m(\u001b[0m\u001b[0mkey\u001b[0m\u001b[0;34m,\u001b[0m \u001b[0mval\u001b[0m\u001b[0;34m,\u001b[0m \u001b[0m_raise\u001b[0m\u001b[0;34m=\u001b[0m\u001b[0m_raise\u001b[0m\u001b[0;34m)\u001b[0m\u001b[0;34m\u001b[0m\u001b[0m\n\u001b[0m\u001b[1;32m    376\u001b[0m \u001b[0;34m\u001b[0m\u001b[0m\n\u001b[1;32m    377\u001b[0m     \u001b[0;32mdef\u001b[0m \u001b[0m__dir__\u001b[0m\u001b[0;34m(\u001b[0m\u001b[0mself\u001b[0m\u001b[0;34m)\u001b[0m\u001b[0;34m:\u001b[0m\u001b[0;34m\u001b[0m\u001b[0m\n",
      "\u001b[0;32m/Users/multiuser/anaconda/envs/python3/lib/python3.5/site-packages/plotly/graph_objs/graph_objs.py\u001b[0m in \u001b[0;36m__setitem__\u001b[0;34m(self, key, value, _raise)\u001b[0m\n\u001b[1;32m    424\u001b[0m                 \u001b[0;32mif\u001b[0m \u001b[0m_raise\u001b[0m\u001b[0;34m:\u001b[0m\u001b[0;34m\u001b[0m\u001b[0m\n\u001b[1;32m    425\u001b[0m                     \u001b[0mpath\u001b[0m \u001b[0;34m=\u001b[0m \u001b[0mself\u001b[0m\u001b[0;34m.\u001b[0m\u001b[0m_get_path\u001b[0m\u001b[0;34m(\u001b[0m\u001b[0;34m)\u001b[0m \u001b[0;34m+\u001b[0m \u001b[0;34m(\u001b[0m\u001b[0mkey\u001b[0m\u001b[0;34m,\u001b[0m \u001b[0;34m)\u001b[0m\u001b[0;34m\u001b[0m\u001b[0m\n\u001b[0;32m--> 426\u001b[0;31m                     \u001b[0;32mraise\u001b[0m \u001b[0mexceptions\u001b[0m\u001b[0;34m.\u001b[0m\u001b[0mPlotlyDictKeyError\u001b[0m\u001b[0;34m(\u001b[0m\u001b[0mself\u001b[0m\u001b[0;34m,\u001b[0m \u001b[0mpath\u001b[0m\u001b[0;34m)\u001b[0m\u001b[0;34m\u001b[0m\u001b[0m\n\u001b[0m\u001b[1;32m    427\u001b[0m                 \u001b[0;32mreturn\u001b[0m\u001b[0;34m\u001b[0m\u001b[0m\n\u001b[1;32m    428\u001b[0m \u001b[0;34m\u001b[0m\u001b[0m\n",
      "\u001b[0;31mPlotlyDictKeyError\u001b[0m: 'title' is not allowed in 'pie'\n\nPath To Error: ['title']\n\nValid attributes for 'pie' at path [] under parents []:\n\n    ['insidetextfont', 'pullsrc', 'hoverinfo', 'textfont', 'stream',\n    'textposition', 'type', 'valuessrc', 'domain', 'textsrc', 'textinfo',\n    'pull', 'text', 'visible', 'direction', 'opacity', 'hovertext',\n    'labels', 'name', 'textpositionsrc', 'hole', 'uid', 'legendgroup',\n    'sort', 'labelssrc', 'values', 'showlegend', 'scalegroup',\n    'outsidetextfont', 'hovertextsrc', 'rotation', 'label0', 'dlabel',\n    'marker']\n\nRun `<pie-object>.help('attribute')` on any of the above.\n'<pie-object>' is the object at []"
     ]
    }
   ],
   "source": [
    "import plotly.plotly as py\n",
    "import plotly.graph_objs as go\n",
    "\n",
    "labels=['Oxygen','Hydrogen','Carbon_Dioxide','Nitrogen']\n",
    "values=[4500,2500,1053,500]\n",
    "\n",
    "trace=go.Pie(labels=labels,values=values,title = \"hi mom\")\n",
    "\n",
    "py.iplot([trace])"
   ]
  },
  {
   "cell_type": "markdown",
   "metadata": {},
   "source": [
    "## Problem 3\n",
    "#### Nenad\n",
    "# Map it\n",
    "##### Graduate Credit 5 points\n",
    "##### Undergraduate Credit 5 points\n",
    "\n",
    "Find a fun dataset with interesting longitute and latitude information.\n",
    "\n",
    "Using Python and Plotly map your dataset.\n",
    "\n",
    "#### TFs can give up to +2 extra credit for interesting custom styling at their discretion."
   ]
  },
  {
   "cell_type": "markdown",
   "metadata": {},
   "source": [
    "# Warning\n",
    "\n",
    "I tried doing this problem last night.  Thought I found some data, cleaned it up, and then nothing.  Thought maybe I did something wrong, so I tried just running Nenad's code straight up.  Nothing.  Then I did some more debugging.  ... nothing.\n",
    "\n",
    "Then I saw that the maps that require a mapbox_access_code weren't even running on the plotly website.  :-/\n",
    "\n",
    "I'd suggest, instead of using a map that requires a mapbox account and a mapbox_access_code, try any other map option.  Map options can be found here, https://plot.ly/python/, and here, https://plot.ly/python/maps/.\n",
    "\n",
    "If you do want to do an atlas map, note that you'll need a mapbox_access_token, and you'll need to store that in your plotly account."
   ]
  },
  {
   "cell_type": "markdown",
   "metadata": {},
   "source": [
    "### grabbing latitude/longitude data"
   ]
  },
  {
   "cell_type": "code",
   "execution_count": 151,
   "metadata": {
    "collapsed": true
   },
   "outputs": [],
   "source": [
    "# data from here:\n",
    "# https://developers.google.com/public-data/docs/canonical/countries_csv\n",
    "\n",
    "with open( \"some file\",\"r\") as f:\n",
    "    text = f.read()\n",
    "    \n",
    "text = \"\"\"AD\t42.546245\t1.601554\tAndorra\n",
    "AE\t23.424076\t53.847818\tUnited Arab Emirates\n",
    "AF\t33.93911\t67.709953\tAfghanistan\n",
    "AG\t17.060816\t-61.796428\tAntigua and Barbuda\n",
    "AI\t18.220554\t-63.068615\tAnguilla\n",
    "AL\t41.153332\t20.168331\tAlbania\n",
    "AM\t40.069099\t45.038189\tArmenia\n",
    "AN\t12.226079\t-69.060087\tNetherlands Antilles\n",
    "AO\t-11.202692\t17.873887\tAngola\n",
    "AQ\t-75.250973\t-0.071389\tAntarctica\n",
    "AR\t-38.416097\t-63.616672\tArgentina\n",
    "AS\t-14.270972\t-170.132217\tAmerican Samoa\n",
    "AT\t47.516231\t14.550072\tAustria\n",
    "AU\t-25.274398\t133.775136\tAustralia\n",
    "AW\t12.52111\t-69.968338\tAruba\n",
    "AZ\t40.143105\t47.576927\tAzerbaijan\n",
    "BA\t43.915886\t17.679076\tBosnia and Herzegovina\n",
    "BB\t13.193887\t-59.543198\tBarbados\n",
    "BD\t23.684994\t90.356331\tBangladesh\n",
    "BE\t50.503887\t4.469936\tBelgium\n",
    "BF\t12.238333\t-1.561593\tBurkina Faso\n",
    "BG\t42.733883\t25.48583\tBulgaria\n",
    "BH\t25.930414\t50.637772\tBahrain\n",
    "BI\t-3.373056\t29.918886\tBurundi\n",
    "\"\"\""
   ]
  },
  {
   "cell_type": "code",
   "execution_count": 152,
   "metadata": {
    "collapsed": true
   },
   "outputs": [],
   "source": [
    "short = text.split(\"\\t\")"
   ]
  },
  {
   "cell_type": "code",
   "execution_count": 153,
   "metadata": {
    "collapsed": false,
    "scrolled": true
   },
   "outputs": [],
   "source": [
    "shorter = [stuff for stuff in short if (len(stuff)!= 2)]"
   ]
  },
  {
   "cell_type": "code",
   "execution_count": 154,
   "metadata": {
    "collapsed": false
   },
   "outputs": [
    {
     "data": {
      "text/plain": [
       "['42.546245',\n",
       " '1.601554',\n",
       " 'Andorra\\nAE',\n",
       " '23.424076',\n",
       " '53.847818',\n",
       " 'United Arab Emirates\\nAF',\n",
       " '33.93911',\n",
       " '67.709953',\n",
       " 'Afghanistan\\nAG',\n",
       " '17.060816',\n",
       " '-61.796428',\n",
       " 'Antigua and Barbuda\\nAI',\n",
       " '18.220554',\n",
       " '-63.068615',\n",
       " 'Anguilla\\nAL',\n",
       " '41.153332',\n",
       " '20.168331',\n",
       " 'Albania\\nAM',\n",
       " '40.069099',\n",
       " '45.038189',\n",
       " 'Armenia\\nAN',\n",
       " '12.226079',\n",
       " '-69.060087',\n",
       " 'Netherlands Antilles\\nAO',\n",
       " '-11.202692',\n",
       " '17.873887',\n",
       " 'Angola\\nAQ',\n",
       " '-75.250973',\n",
       " '-0.071389',\n",
       " 'Antarctica\\nAR',\n",
       " '-38.416097',\n",
       " '-63.616672',\n",
       " 'Argentina\\nAS',\n",
       " '-14.270972',\n",
       " '-170.132217',\n",
       " 'American Samoa\\nAT',\n",
       " '47.516231',\n",
       " '14.550072',\n",
       " 'Austria\\nAU',\n",
       " '-25.274398',\n",
       " '133.775136',\n",
       " 'Australia\\nAW',\n",
       " '12.52111',\n",
       " '-69.968338',\n",
       " 'Aruba\\nAZ',\n",
       " '40.143105',\n",
       " '47.576927',\n",
       " 'Azerbaijan\\nBA',\n",
       " '43.915886',\n",
       " '17.679076',\n",
       " 'Bosnia and Herzegovina\\nBB',\n",
       " '13.193887',\n",
       " '-59.543198',\n",
       " 'Barbados\\nBD',\n",
       " '23.684994',\n",
       " '90.356331',\n",
       " 'Bangladesh\\nBE',\n",
       " '50.503887',\n",
       " '4.469936',\n",
       " 'Belgium\\nBF',\n",
       " '12.238333',\n",
       " '-1.561593',\n",
       " 'Burkina Faso\\nBG',\n",
       " '42.733883',\n",
       " '25.48583',\n",
       " 'Bulgaria\\nBH',\n",
       " '25.930414',\n",
       " '50.637772',\n",
       " 'Bahrain\\nBI',\n",
       " '-3.373056',\n",
       " '29.918886',\n",
       " 'Burundi\\n']"
      ]
     },
     "execution_count": 154,
     "metadata": {},
     "output_type": "execute_result"
    }
   ],
   "source": [
    "shorter"
   ]
  },
  {
   "cell_type": "code",
   "execution_count": 164,
   "metadata": {
    "collapsed": true
   },
   "outputs": [],
   "source": [
    "lats = shorter[0::3]\n",
    "lons = shorter[1::3]\n",
    "names_temp = shorter[2::3]"
   ]
  },
  {
   "cell_type": "code",
   "execution_count": 165,
   "metadata": {
    "collapsed": false
   },
   "outputs": [
    {
     "data": {
      "text/plain": [
       "['42.546245',\n",
       " '23.424076',\n",
       " '33.93911',\n",
       " '17.060816',\n",
       " '18.220554',\n",
       " '41.153332',\n",
       " '40.069099',\n",
       " '12.226079',\n",
       " '-11.202692',\n",
       " '-75.250973',\n",
       " '-38.416097',\n",
       " '-14.270972',\n",
       " '47.516231',\n",
       " '-25.274398',\n",
       " '12.52111',\n",
       " '40.143105',\n",
       " '43.915886',\n",
       " '13.193887',\n",
       " '23.684994',\n",
       " '50.503887',\n",
       " '12.238333',\n",
       " '42.733883',\n",
       " '25.930414',\n",
       " '-3.373056']"
      ]
     },
     "execution_count": 165,
     "metadata": {},
     "output_type": "execute_result"
    }
   ],
   "source": [
    "lats"
   ]
  },
  {
   "cell_type": "code",
   "execution_count": 166,
   "metadata": {
    "collapsed": false
   },
   "outputs": [
    {
     "data": {
      "text/plain": [
       "['1.601554',\n",
       " '53.847818',\n",
       " '67.709953',\n",
       " '-61.796428',\n",
       " '-63.068615',\n",
       " '20.168331',\n",
       " '45.038189',\n",
       " '-69.060087',\n",
       " '17.873887',\n",
       " '-0.071389',\n",
       " '-63.616672',\n",
       " '-170.132217',\n",
       " '14.550072',\n",
       " '133.775136',\n",
       " '-69.968338',\n",
       " '47.576927',\n",
       " '17.679076',\n",
       " '-59.543198',\n",
       " '90.356331',\n",
       " '4.469936',\n",
       " '-1.561593',\n",
       " '25.48583',\n",
       " '50.637772',\n",
       " '29.918886']"
      ]
     },
     "execution_count": 166,
     "metadata": {},
     "output_type": "execute_result"
    }
   ],
   "source": [
    "lons"
   ]
  },
  {
   "cell_type": "code",
   "execution_count": 167,
   "metadata": {
    "collapsed": false
   },
   "outputs": [
    {
     "data": {
      "text/plain": [
       "['Andorra\\nAE',\n",
       " 'United Arab Emirates\\nAF',\n",
       " 'Afghanistan\\nAG',\n",
       " 'Antigua and Barbuda\\nAI',\n",
       " 'Anguilla\\nAL',\n",
       " 'Albania\\nAM',\n",
       " 'Armenia\\nAN',\n",
       " 'Netherlands Antilles\\nAO',\n",
       " 'Angola\\nAQ',\n",
       " 'Antarctica\\nAR',\n",
       " 'Argentina\\nAS',\n",
       " 'American Samoa\\nAT',\n",
       " 'Austria\\nAU',\n",
       " 'Australia\\nAW',\n",
       " 'Aruba\\nAZ',\n",
       " 'Azerbaijan\\nBA',\n",
       " 'Bosnia and Herzegovina\\nBB',\n",
       " 'Barbados\\nBD',\n",
       " 'Bangladesh\\nBE',\n",
       " 'Belgium\\nBF',\n",
       " 'Burkina Faso\\nBG',\n",
       " 'Bulgaria\\nBH',\n",
       " 'Bahrain\\nBI',\n",
       " 'Burundi\\n']"
      ]
     },
     "execution_count": 167,
     "metadata": {},
     "output_type": "execute_result"
    }
   ],
   "source": [
    "names_temp"
   ]
  },
  {
   "cell_type": "code",
   "execution_count": 168,
   "metadata": {
    "collapsed": false
   },
   "outputs": [],
   "source": [
    "lats = [float(num) for num in lats]\n",
    "lons = [float(num) for num in lons]\n",
    "names = [\" \".join(item.split()[:-1]) for item in names_temp][:-1]"
   ]
  },
  {
   "cell_type": "code",
   "execution_count": 169,
   "metadata": {
    "collapsed": false
   },
   "outputs": [
    {
     "data": {
      "text/plain": [
       "['Andorra',\n",
       " 'United Arab Emirates',\n",
       " 'Afghanistan',\n",
       " 'Antigua and Barbuda',\n",
       " 'Anguilla',\n",
       " 'Albania',\n",
       " 'Armenia',\n",
       " 'Netherlands Antilles',\n",
       " 'Angola',\n",
       " 'Antarctica',\n",
       " 'Argentina',\n",
       " 'American Samoa',\n",
       " 'Austria',\n",
       " 'Australia',\n",
       " 'Aruba',\n",
       " 'Azerbaijan',\n",
       " 'Bosnia and Herzegovina',\n",
       " 'Barbados',\n",
       " 'Bangladesh',\n",
       " 'Belgium',\n",
       " 'Burkina Faso',\n",
       " 'Bulgaria',\n",
       " 'Bahrain']"
      ]
     },
     "execution_count": 169,
     "metadata": {},
     "output_type": "execute_result"
    }
   ],
   "source": [
    "names"
   ]
  },
  {
   "cell_type": "markdown",
   "metadata": {},
   "source": [
    "Now to do some actual work:"
   ]
  },
  {
   "cell_type": "code",
   "execution_count": 2,
   "metadata": {
    "collapsed": false
   },
   "outputs": [],
   "source": [
    "import plotly\n",
    "#plotly.tools.set_credentials_file(username='jgpalin', api_key='1iE9PI5qyxA4m1qzIbVu')\n",
    "#plotly.tools.set_config_file(world_readable=True,\n",
    "#                             sharing='public')"
   ]
  },
  {
   "cell_type": "code",
   "execution_count": 23,
   "metadata": {
    "collapsed": false
   },
   "outputs": [
    {
     "ename": "NameError",
     "evalue": "name 'lats' is not defined",
     "output_type": "error",
     "traceback": [
      "\u001b[0;31m---------------------------------------------------------------------------\u001b[0m",
      "\u001b[0;31mNameError\u001b[0m                                 Traceback (most recent call last)",
      "\u001b[0;32m<ipython-input-23-78792454f701>\u001b[0m in \u001b[0;36m<module>\u001b[0;34m()\u001b[0m\n\u001b[1;32m      6\u001b[0m \u001b[0;31m# My mapbox access token stored in my plotly account\u001b[0m\u001b[0;34m\u001b[0m\u001b[0;34m\u001b[0m\u001b[0m\n\u001b[1;32m      7\u001b[0m \u001b[0mmapbox_access_token\u001b[0m \u001b[0;34m=\u001b[0m \u001b[0;34m'pk.eyJ1IjoiamdwYWxpbiIsImEiOiJjajFzbGVkeDMwMGZlMndwcGN0M2VyZTYyIn0.F2wpW3nNfd-A6z-Tq3JiqQ'\u001b[0m\u001b[0;34m\u001b[0m\u001b[0m\n\u001b[0;32m----> 8\u001b[0;31m \u001b[0mrating_one_site_lat\u001b[0m \u001b[0;34m=\u001b[0m \u001b[0mlats\u001b[0m\u001b[0;34m\u001b[0m\u001b[0m\n\u001b[0m\u001b[1;32m      9\u001b[0m \u001b[0mrating_one_site_lon\u001b[0m \u001b[0;34m=\u001b[0m \u001b[0mlons\u001b[0m\u001b[0;34m\u001b[0m\u001b[0m\n\u001b[1;32m     10\u001b[0m \u001b[0;34m\u001b[0m\u001b[0m\n",
      "\u001b[0;31mNameError\u001b[0m: name 'lats' is not defined"
     ]
    }
   ],
   "source": [
    "import plotly.plotly as py\n",
    "from plotly.graph_objs import *\n",
    "\n",
    "import pandas as pd\n",
    "\n",
    "# My mapbox access token stored in my plotly account\n",
    "mapbox_access_token = 'pk.eyJ1IjoiamdwYWxpbiIsImEiOiJjajFzbGVkeDMwMGZlMndwcGN0M2VyZTYyIn0.F2wpW3nNfd-A6z-Tq3JiqQ'\n",
    "rating_one_site_lat = lats\n",
    "rating_one_site_lon = lons\n",
    "\n",
    "# the top entry is a header ... I think\n",
    "locations_name = names\n",
    "\n",
    "\n",
    "\n",
    "data = Data([\n",
    "    Scattermapbox(\n",
    "        lat=rating_one_site_lat,\n",
    "        lon=rating_one_site_lon,\n",
    "        mode='markers',\n",
    "        marker=Marker(\n",
    "            size=18,\n",
    "            color='rgb(155, 240, 225)',\n",
    "            opacity=0.7\n",
    "        ),\n",
    "        text=locations_name,\n",
    "        hoverinfo='text'\n",
    "    ),\n",
    "    Scattermapbox(\n",
    "        lat=rating_one_site_lat,\n",
    "        lon=rating_one_site_lon,\n",
    "        mode='markers',\n",
    "        marker=Marker(\n",
    "            size=8,\n",
    "            color='rgb(205, 245, 100)'\n",
    "        ),\n",
    "        hoverinfo='skip'\n",
    "    )]\n",
    ")\n",
    "        \n",
    "layout = Layout(\n",
    "    title='Random stuff',\n",
    "    autosize=True,\n",
    "    hovermode='closest',\n",
    "    showlegend=False,\n",
    "    mapbox=dict(\n",
    "        accesstoken=mapbox_access_token,\n",
    "        bearing=0,\n",
    "        center=dict(\n",
    "            lat=38,\n",
    "            lon=-94\n",
    "        ),\n",
    "        pitch=0,\n",
    "        zoom=3,\n",
    "        style='dark'\n",
    "    ),\n",
    ")\n",
    "\n",
    "fig = dict(data=data, layout=layout)\n",
    "py.iplot(fig, filename='IhatePlotly')"
   ]
  },
  {
   "cell_type": "code",
   "execution_count": 24,
   "metadata": {
    "collapsed": false
   },
   "outputs": [
    {
     "data": {
      "text/html": [
       "<iframe id=\"igraph\" scrolling=\"no\" style=\"border:none;\" seamless=\"seamless\" src=\"https://plot.ly/~jgpalin/8.embed\" height=\"525px\" width=\"100%\"></iframe>"
      ],
      "text/plain": [
       "<plotly.tools.PlotlyDisplay object>"
      ]
     },
     "execution_count": 24,
     "metadata": {},
     "output_type": "execute_result"
    }
   ],
   "source": [
    "import plotly.plotly as py\n",
    "import pandas as pd\n",
    "\n",
    "df = pd.read_csv('https://raw.githubusercontent.com/plotly/datasets/master/2011_us_ag_exports.csv')\n",
    "\n",
    "for col in df.columns:\n",
    "    df[col] = df[col].astype(str)\n",
    "\n",
    "scl = [[0.0, 'rgb(242,240,247)'],[0.2, 'rgb(218,218,235)'],[0.4, 'rgb(188,189,220)'],\\\n",
    "            [0.6, 'rgb(158,154,200)'],[0.8, 'rgb(117,107,177)'],[1.0, 'rgb(84,39,143)']]\n",
    "\n",
    "df['text'] = df['state'] + '<br>' +\\\n",
    "    'Beef '+df['beef']+' Dairy '+df['dairy']+'<br>'+\\\n",
    "    'Fruits '+df['total fruits']+' Veggies ' + df['total veggies']+'<br>'+\\\n",
    "    'Wheat '+df['wheat']+' Corn '+df['corn']\n",
    "\n",
    "data = [ dict(\n",
    "        type='choropleth',\n",
    "        colorscale = scl,\n",
    "        autocolorscale = False,\n",
    "        locations = df['code'],\n",
    "        z = df['total exports'].astype(float),\n",
    "        locationmode = 'USA-states',\n",
    "        text = df['text'],\n",
    "        marker = dict(\n",
    "            line = dict (\n",
    "                color = 'rgb(255,255,255)',\n",
    "                width = 2\n",
    "            ) ),\n",
    "        colorbar = dict(\n",
    "            title = \"Millions USD\")\n",
    "        ) ]\n",
    "\n",
    "layout = dict(\n",
    "        title = '2011 US Agriculture Exports by State<br>(Hover for breakdown)',\n",
    "        geo = dict(\n",
    "            scope='usa',\n",
    "            projection=dict( type='albers usa' ),\n",
    "            showlakes = True,\n",
    "            lakecolor = 'rgb(255, 255, 255)'),\n",
    "             )\n",
    "    \n",
    "fig = dict( data=data, layout=layout )\n",
    "py.iplot( fig, filename='d3-cloropleth-map' )"
   ]
  },
  {
   "cell_type": "code",
   "execution_count": 100,
   "metadata": {
    "collapsed": true
   },
   "outputs": [
    {
     "data": {
      "text/html": [
       "<iframe id=\"igraph\" scrolling=\"no\" style=\"border:none;\" seamless=\"seamless\" src=\"https://plot.ly/~jgpalin/10.embed\" height=\"525px\" width=\"100%\"></iframe>"
      ],
      "text/plain": [
       "<plotly.tools.PlotlyDisplay object>"
      ]
     },
     "execution_count": 100,
     "metadata": {},
     "output_type": "execute_result"
    }
   ],
   "source": [
    "import plotly.plotly as py\n",
    "from plotly.graph_objs import *\n",
    "\n",
    "mapbox_access_token = 'pk.eyJ1IjoiamdwYWxpbiIsImEiOiJjajFzbGVkeDMwMGZlMndwcGN0M2VyZTYyIn0.F2wpW3nNfd-A6z-Tq3JiqQ'\n",
    "\n",
    "data = Data([\n",
    "    Scattermapbox(\n",
    "        lat=['45.5017'],\n",
    "        lon=['-73.5673'],\n",
    "        mode='markers',\n",
    "        marker=Marker(\n",
    "            size=14\n",
    "        ),\n",
    "        text=['Montreal'],\n",
    "    )\n",
    "])\n",
    "\n",
    "layout = Layout(\n",
    "    autosize=True,\n",
    "    hovermode='closest',\n",
    "    mapbox=dict(\n",
    "        accesstoken=mapbox_access_token,\n",
    "        bearing=0,\n",
    "        center=dict(\n",
    "            lat=45,\n",
    "            lon=-73\n",
    "        ),\n",
    "        pitch=0,\n",
    "        zoom=5\n",
    "    ),\n",
    ")\n",
    "\n",
    "fig = dict(data=data, layout=layout)\n",
    "py.iplot(fig, filename='Montreal Mapbox')"
   ]
  },
  {
   "cell_type": "code",
   "execution_count": 101,
   "metadata": {
    "collapsed": false
   },
   "outputs": [
    {
     "data": {
      "text/html": [
       "<iframe id=\"igraph\" scrolling=\"no\" style=\"border:none;\" seamless=\"seamless\" src=\"https://plot.ly/~jgpalin/12.embed\" height=\"525px\" width=\"100%\"></iframe>"
      ],
      "text/plain": [
       "<plotly.tools.PlotlyDisplay object>"
      ]
     },
     "execution_count": 101,
     "metadata": {},
     "output_type": "execute_result"
    }
   ],
   "source": [
    "import plotly.plotly as py\n",
    "import plotly.graph_objs as go\n",
    "\n",
    "import pandas as pd\n",
    "df = pd.read_csv('https://raw.githubusercontent.com/plotly/datasets/master/2014_ebola.csv')\n",
    "df.head()\n",
    "\n",
    "cases = []\n",
    "colors = ['rgb(239,243,255)','rgb(189,215,231)','rgb(107,174,214)','rgb(33,113,181)']\n",
    "months = {6:'June',7:'July',8:'Aug',9:'Sept'}\n",
    "\n",
    "for i in range(6,10)[::-1]:\n",
    "    cases.append(go.Scattergeo(\n",
    "        lon = df[ df['Month'] == i ]['Lon'], #-(max(range(6,10))-i),\n",
    "        lat = df[ df['Month'] == i ]['Lat'],\n",
    "        text = df[ df['Month'] == i ]['Value'],\n",
    "        name = months[i],\n",
    "        marker = dict(\n",
    "            size = df[ df['Month'] == i ]['Value']/50,\n",
    "            color = colors[i-6],\n",
    "            line = dict(width = 0)\n",
    "        ),\n",
    "    ) )\n",
    "\n",
    "cases[0]['text'] = df[ df['Month'] == 9 ]['Value'].map('{:.0f}'.format).astype(str)+' '+\\\n",
    "    df[ df['Month'] == 9 ]['Country']\n",
    "cases[0]['mode'] = 'markers+text'\n",
    "cases[0]['textposition'] = 'bottom center'\n",
    "\n",
    "inset = [\n",
    "    go.Choropleth(\n",
    "        locationmode = 'country names',\n",
    "        locations = df[ df['Month'] == 9 ]['Country'],\n",
    "        z = df[ df['Month'] == 9 ]['Value'],\n",
    "        text = df[ df['Month'] == 9 ]['Country'],\n",
    "        colorscale = [[0,'rgb(0, 0, 0)'],[1,'rgb(0, 0, 0)']],\n",
    "        autocolorscale = False,\n",
    "        showscale = False,\n",
    "        geo = 'geo2'\n",
    "    ),\n",
    "    go.Scattergeo(\n",
    "        lon = [21.0936],\n",
    "        lat = [7.1881],\n",
    "        text = ['Africa'],\n",
    "        mode = 'text',\n",
    "        showlegend = False,\n",
    "        geo = 'geo2'\n",
    "    )\n",
    "]\n",
    "\n",
    "layout = go.Layout(\n",
    "    title = 'Ebola cases reported by month in West Africa 2014<br> \\\n",
    "Source: <a href=\"https://data.hdx.rwlabs.org/dataset/rowca-ebola-cases\">\\\n",
    "HDX</a>',\n",
    "    geo = dict(\n",
    "        resolution = 50,\n",
    "        scope = 'africa',\n",
    "        showframe = False,\n",
    "        showcoastlines = True,\n",
    "        showland = True,\n",
    "        landcolor = \"rgb(229, 229, 229)\",\n",
    "        countrycolor = \"rgb(255, 255, 255)\" ,\n",
    "        coastlinecolor = \"rgb(255, 255, 255)\",\n",
    "        projection = dict(\n",
    "            type = 'Mercator'\n",
    "        ),\n",
    "        lonaxis = dict( range= [ -15.0, -5.0 ] ),\n",
    "        lataxis = dict( range= [ 0.0, 12.0 ] ),\n",
    "        domain = dict(\n",
    "            x = [ 0, 1 ],\n",
    "            y = [ 0, 1 ]\n",
    "        )\n",
    "    ),\n",
    "    geo2 = dict(\n",
    "        scope = 'africa',\n",
    "        showframe = False,\n",
    "        showland = True,\n",
    "        landcolor = \"rgb(229, 229, 229)\",\n",
    "        showcountries = False,\n",
    "        domain = dict(\n",
    "            x = [ 0, 0.6 ],\n",
    "            y = [ 0, 0.6 ]\n",
    "        ),\n",
    "        bgcolor = 'rgba(255, 255, 255, 0.0)',\n",
    "    ),\n",
    "    legend = dict(\n",
    "           traceorder = 'reversed'\n",
    "    )\n",
    ")\n",
    "\n",
    "fig = go.Figure(layout=layout, data=cases+inset)\n",
    "py.iplot(fig, validate=False, filename='West Africa Ebola cases 2014')"
   ]
  },
  {
   "cell_type": "code",
   "execution_count": 103,
   "metadata": {
    "collapsed": true
   },
   "outputs": [],
   "source": [
    "#insert comment about how frustrating coding can be"
   ]
  },
  {
   "cell_type": "markdown",
   "metadata": {},
   "source": [
    "## Problem 4\n",
    "#### Nenad\n",
    "# Machine Learning\n",
    "##### Graduate Credit 5 points\n",
    "##### Undergraduate Credit 5 points\n",
    "\n",
    "In lecture 10 I showed two examples of Machine learning.  One was from Brownley and the other one from Josh Gordon.\n",
    "\n",
    "For this problem we want you to pick a classifier and train it yourself with some data that you either find, or design.\n",
    "The example can be something as simple as the apples and oranges code, or something more complicated like the Brownlee example.\n",
    "\n",
    "#### TFs can give up to +2 extra credit for doing something very interesting at their discretion."
   ]
  },
  {
   "cell_type": "markdown",
   "metadata": {},
   "source": [
    "http://scikit-learn.org/stable/index.html\n",
    "\n",
    "Now, looking at code from Nenad's lecture:"
   ]
  },
  {
   "cell_type": "code",
   "execution_count": 28,
   "metadata": {
    "collapsed": false
   },
   "outputs": [
    {
     "name": "stdout",
     "output_type": "stream",
     "text": [
      "Orange\n",
      "Apple\n",
      "Orange\n"
     ]
    }
   ],
   "source": [
    "import sklearn\n",
    "features = [[139,\"Smooth\"],[130,\"Smooth\"],[135,\"Smooth\"],[149,\"Bumpy\"],[151,\"Bumpy\"],[160,\"Bumpy\"]]\n",
    "labels = [\"Apple\",\"Apple\",\"Apple\",\"Orange\",\"Orange\",\"Orange\"]\n",
    "\n",
    "#binarize the data\n",
    "features = [[139,1],[130,1],[135,1],[149,0],[151,0],[160,0]]\n",
    "labels = [1,1,1,0,0,0]\n",
    "\n",
    "# from sklearn.tree import DecisionTreeClassifier\n",
    "\n",
    "#we will use a Decision Tree Classifier\n",
    "# clf = sklearn.tree.DecisionTreeClassifier()\n",
    "from sklearn.tree import DecisionTreeClassifier\n",
    "\n",
    "clf = DecisionTreeClassifier()\n",
    "#Now we will train the classifier\n",
    "clf = clf.fit(features,labels)\n",
    "\n",
    "d = {1:\"Apple\",0:\"Orange\"}\n",
    "\n",
    "#Now let's test this!\n",
    "results =  (clf.predict([[155,0],[140,1],[133,0]]))\n",
    "for r in results:\n",
    "    print (d[r])"
   ]
  },
  {
   "cell_type": "code",
   "execution_count": 26,
   "metadata": {
    "collapsed": true
   },
   "outputs": [
    {
     "name": "stdout",
     "output_type": "stream",
     "text": [
      "Help on package sklearn:\n",
      "\n",
      "NAME\n",
      "    sklearn\n",
      "\n",
      "DESCRIPTION\n",
      "    Machine learning module for Python\n",
      "    ==================================\n",
      "    \n",
      "    sklearn is a Python module integrating classical machine\n",
      "    learning algorithms in the tightly-knit world of scientific Python\n",
      "    packages (numpy, scipy, matplotlib).\n",
      "    \n",
      "    It aims to provide simple and efficient solutions to learning problems\n",
      "    that are accessible to everybody and reusable in various contexts:\n",
      "    machine-learning as a versatile tool for science and engineering.\n",
      "    \n",
      "    See http://scikit-learn.org for complete documentation.\n",
      "\n",
      "PACKAGE CONTENTS\n",
      "    __check_build (package)\n",
      "    _build_utils (package)\n",
      "    _isotonic\n",
      "    base\n",
      "    calibration\n",
      "    cluster (package)\n",
      "    covariance (package)\n",
      "    cross_decomposition (package)\n",
      "    cross_validation\n",
      "    datasets (package)\n",
      "    decomposition (package)\n",
      "    discriminant_analysis\n",
      "    dummy\n",
      "    ensemble (package)\n",
      "    exceptions\n",
      "    externals (package)\n",
      "    feature_extraction (package)\n",
      "    feature_selection (package)\n",
      "    gaussian_process (package)\n",
      "    grid_search\n",
      "    isotonic\n",
      "    kernel_approximation\n",
      "    kernel_ridge\n",
      "    lda\n",
      "    learning_curve\n",
      "    linear_model (package)\n",
      "    manifold (package)\n",
      "    metrics (package)\n",
      "    mixture (package)\n",
      "    model_selection (package)\n",
      "    multiclass\n",
      "    multioutput\n",
      "    naive_bayes\n",
      "    neighbors (package)\n",
      "    neural_network (package)\n",
      "    pipeline\n",
      "    preprocessing (package)\n",
      "    qda\n",
      "    random_projection\n",
      "    semi_supervised (package)\n",
      "    setup\n",
      "    svm (package)\n",
      "    tests (package)\n",
      "    tree (package)\n",
      "    utils (package)\n",
      "\n",
      "FUNCTIONS\n",
      "    clone(estimator, safe=True)\n",
      "        Constructs a new estimator with the same parameters.\n",
      "        \n",
      "        Clone does a deep copy of the model in an estimator\n",
      "        without actually copying attached data. It yields a new estimator\n",
      "        with the same parameters that has not been fit on any data.\n",
      "        \n",
      "        Parameters\n",
      "        ----------\n",
      "        estimator: estimator object, or list, tuple or set of objects\n",
      "            The estimator or group of estimators to be cloned\n",
      "        \n",
      "        safe: boolean, optional\n",
      "            If safe is false, clone will fall back to a deepcopy on objects\n",
      "            that are not estimators.\n",
      "\n",
      "DATA\n",
      "    __SKLEARN_SETUP__ = False\n",
      "    __all__ = ['calibration', 'cluster', 'covariance', 'cross_decompositio...\n",
      "\n",
      "VERSION\n",
      "    0.18.1\n",
      "\n",
      "FILE\n",
      "    /Users/multiuser/anaconda/envs/python3/lib/python3.5/site-packages/sklearn/__init__.py\n",
      "\n",
      "\n"
     ]
    }
   ],
   "source": [
    "help(sklearn)"
   ]
  },
  {
   "cell_type": "code",
   "execution_count": null,
   "metadata": {
    "collapsed": true
   },
   "outputs": [],
   "source": []
  },
  {
   "cell_type": "code",
   "execution_count": null,
   "metadata": {
    "collapsed": true
   },
   "outputs": [],
   "source": []
  },
  {
   "cell_type": "code",
   "execution_count": null,
   "metadata": {
    "collapsed": true
   },
   "outputs": [],
   "source": []
  },
  {
   "cell_type": "code",
   "execution_count": null,
   "metadata": {
    "collapsed": true
   },
   "outputs": [],
   "source": []
  },
  {
   "cell_type": "code",
   "execution_count": null,
   "metadata": {
    "collapsed": true
   },
   "outputs": [],
   "source": [
    "text = \"\"\"## Problem 4\n",
    "#### Nenad\n",
    "# Machine Learning\n",
    "##### Graduate Credit 5 points\n",
    "##### Undergraduate Credit 5 points\n",
    "\n",
    "In lecture 10 I showed two examples of Machine learning.  One was from Brownley and the other one from Josh Gordon.\n",
    "\n",
    "For this problem we want you to pick a classifier and train it yourself with some data that you either find, or design.\n",
    "The example can be something as simple as the apples and oranges code, or something more complicated like the Brownlee example.\n",
    "\n",
    "#### TFs can give up to +2 extra credit for doing something very interesting at their discretion.\"\"\"\n",
    "\n"
   ]
  },
  {
   "cell_type": "markdown",
   "metadata": {},
   "source": [
    "Somebody help me write the code to turn the text into words only and then bigrams."
   ]
  },
  {
   "cell_type": "code",
   "execution_count": 144,
   "metadata": {
    "collapsed": false,
    "scrolled": true
   },
   "outputs": [
    {
     "data": {
      "text/plain": [
       "['Problem',\n",
       " 'Nenad',\n",
       " 'Histogram',\n",
       " 'Graduate',\n",
       " 'Credit',\n",
       " 'points',\n",
       " 'Undergraduate',\n",
       " 'Credit',\n",
       " 'points',\n",
       " 'Pick',\n",
       " 'a',\n",
       " 'dataset',\n",
       " 'of',\n",
       " 'your',\n",
       " 'choice',\n",
       " 'and',\n",
       " 'plot',\n",
       " 'a',\n",
       " 'histogram',\n",
       " 'using',\n",
       " 'a',\n",
       " 'library',\n",
       " 'of',\n",
       " 'your',\n",
       " 'Seaborn',\n",
       " 'Matplotlib',\n",
       " 'Plotly',\n",
       " 'Bokeh',\n",
       " 'Style',\n",
       " 'your',\n",
       " 'plot',\n",
       " 'and',\n",
       " 'name',\n",
       " 'your',\n",
       " 'axes',\n",
       " 'and',\n",
       " 'give',\n",
       " 'it',\n",
       " 'a',\n",
       " 'In',\n",
       " 'order',\n",
       " 'to',\n",
       " 'get',\n",
       " 'credit',\n",
       " 'you',\n",
       " 'need',\n",
       " 'to',\n",
       " 'execute',\n",
       " 'your',\n",
       " 'notebook',\n",
       " 'and',\n",
       " 'ensure',\n",
       " 'that',\n",
       " 'your',\n",
       " 'pdf',\n",
       " 'includes',\n",
       " 'your',\n",
       " 'code',\n",
       " 'and',\n",
       " 'Your',\n",
       " 'dataset',\n",
       " 'MUST',\n",
       " 'be',\n",
       " 'loaded',\n",
       " 'from',\n",
       " 'a']"
      ]
     },
     "execution_count": 144,
     "metadata": {},
     "output_type": "execute_result"
    }
   ],
   "source": [
    "words = text.split()\n",
    "alpha_words = [word for word in words if word.isalpha()]\n",
    "alpha_words"
   ]
  },
  {
   "cell_type": "code",
   "execution_count": null,
   "metadata": {
    "collapsed": true
   },
   "outputs": [],
   "source": []
  },
  {
   "cell_type": "markdown",
   "metadata": {},
   "source": [
    "## Problem 5\n",
    "#### Your First and Last Name Here\n",
    "# Your Title Here\n",
    "##### Graduate Credit from 1 - 5 points Extra Credit\n",
    "##### Undergraduate Credit from 1 - 5 points Extra Credit\n",
    "\n",
    "\n",
    "Ok cscie7[0]!  Time to give your future colleagues a taste of your skill.  Make a problem for cscie7[1] students.  The problem has to be original, interesting, and fun.  Think of a topic you enjoyed from this past semester, and write a question that helps learn a nuance of that topic.\n",
    "\n",
    "Write a very clear specification.\n",
    "\n",
    "Write a solution to your problem.\n",
    "\n",
    "Your TF can award you from 1-5 points of extra credit based on how interesting, original and complex your problem is at their discretion.\n",
    "\n",
    "\n",
    "\n",
    "\n",
    "\n",
    "\n"
   ]
  },
  {
   "cell_type": "code",
   "execution_count": null,
   "metadata": {
    "collapsed": true
   },
   "outputs": [],
   "source": []
  },
  {
   "cell_type": "code",
   "execution_count": null,
   "metadata": {
    "collapsed": true
   },
   "outputs": [],
   "source": []
  },
  {
   "cell_type": "code",
   "execution_count": null,
   "metadata": {
    "collapsed": true
   },
   "outputs": [],
   "source": []
  },
  {
   "cell_type": "code",
   "execution_count": null,
   "metadata": {
    "collapsed": true
   },
   "outputs": [],
   "source": []
  },
  {
   "cell_type": "code",
   "execution_count": null,
   "metadata": {
    "collapsed": true
   },
   "outputs": [],
   "source": []
  },
  {
   "cell_type": "code",
   "execution_count": null,
   "metadata": {
    "collapsed": true
   },
   "outputs": [],
   "source": []
  },
  {
   "cell_type": "code",
   "execution_count": null,
   "metadata": {
    "collapsed": true
   },
   "outputs": [],
   "source": []
  },
  {
   "cell_type": "code",
   "execution_count": null,
   "metadata": {
    "collapsed": true
   },
   "outputs": [],
   "source": []
  },
  {
   "cell_type": "code",
   "execution_count": null,
   "metadata": {
    "collapsed": true
   },
   "outputs": [],
   "source": []
  },
  {
   "cell_type": "code",
   "execution_count": null,
   "metadata": {
    "collapsed": true
   },
   "outputs": [],
   "source": [
    "#make CSCI E-7 History!"
   ]
  }
 ],
 "metadata": {
  "kernelspec": {
   "display_name": "Python 3",
   "language": "python",
   "name": "python3"
  },
  "language_info": {
   "codemirror_mode": {
    "name": "ipython",
    "version": 3
   },
   "file_extension": ".py",
   "mimetype": "text/x-python",
   "name": "python",
   "nbconvert_exporter": "python",
   "pygments_lexer": "ipython3",
   "version": "3.5.1"
  }
 },
 "nbformat": 4,
 "nbformat_minor": 2
}
