{
 "cells": [
  {
   "cell_type": "code",
   "execution_count": 68,
   "metadata": {},
   "outputs": [],
   "source": [
    "def build_dict():\n",
    "    # Load in word file and sort each line.\n",
    "    with open('words.txt') as my_file: \n",
    "        words = {} # initialize a dictionary \n",
    "        for word in my_file: \n",
    "            word = word.strip() \n",
    "             # Sort the chars in each word and return a string.\n",
    "            chars = list(word)\n",
    "            chars.sort()\n",
    "            key = \"\".join(chars)\n",
    "        # Add each line to a dictionary based on its sorted key.\n",
    "            if key in words:\n",
    "                value = words.get(key) + \",\" + word \n",
    "                words[key] = value\n",
    "            else:\n",
    "                words[key] = word\n",
    "    return words\n",
    "\n",
    "# find all the anagram in the given dictionary\n",
    "def find_all_anagram(words):\n",
    "    # Return a list of anagrams from the dictionary.\n",
    "    # ... Use a sorted string as the key.\n",
    "    anagramlist=[]#store anagramlist\n",
    "    for word in words:\n",
    "        chars = list(word)\n",
    "        chars.sort()\n",
    "        key = \"\".join(chars)\n",
    "        values = words.get(key, \"NONE\")# if key doesnt exist then return \"NONE\" else print value of each word\n",
    "        anagrams = values.split(\",\")\n",
    "        if (anagrams != \"NONE\" and len(anagrams)>7):\n",
    "            anagramlist.append([len(anagrams),anagrams])# build anagram tuple \n",
    "        \n",
    "    anagramlist.sort(reverse=True)# sort tupple in reverse order     \n",
    "    for i in range(10): # take only largest 10 set\n",
    "        print(anagramlist[i])"
   ]
  },
  {
   "cell_type": "code",
   "execution_count": 74,
   "metadata": {},
   "outputs": [
    {
     "name": "stdout",
     "output_type": "stream",
     "text": [
      "[11, ['apers', 'asper', 'pares', 'parse', 'pears', 'prase', 'presa', 'rapes', 'reaps', 'spare', 'spear']]\n",
      "[11, ['alerts', 'alters', 'artels', 'estral', 'laster', 'ratels', 'salter', 'slater', 'staler', 'stelar', 'talers']]\n",
      "[10, ['least', 'setal', 'slate', 'stale', 'steal', 'stela', 'taels', 'tales', 'teals', 'tesla']]\n",
      "[9, ['estrin', 'inerts', 'insert', 'inters', 'niters', 'nitres', 'sinter', 'triens', 'trines']]\n",
      "[9, ['capers', 'crapes', 'escarp', 'pacers', 'parsec', 'recaps', 'scrape', 'secpar', 'spacer']]\n",
      "[8, ['peris', 'piers', 'pries', 'prise', 'ripes', 'speir', 'spier', 'spire']]\n",
      "[8, ['palest', 'palets', 'pastel', 'petals', 'plates', 'pleats', 'septal', 'staple']]\n",
      "[8, ['lapse', 'leaps', 'pales', 'peals', 'pleas', 'salep', 'sepal', 'spale']]\n",
      "[8, ['earings', 'erasing', 'gainers', 'reagins', 'regains', 'reginas', 'searing', 'seringa']]\n",
      "[8, ['carets', 'cartes', 'caster', 'caters', 'crates', 'reacts', 'recast', 'traces']]\n",
      "CPU times: user 547 ms, sys: 13.9 ms, total: 561 ms\n",
      "Wall time: 564 ms\n"
     ]
    }
   ],
   "source": [
    "%%time\n",
    "# Load our dictionary and use it.\n",
    "words = build_dict()\n",
    "results = find_all_anagram(words)"
   ]
  },
  {
   "cell_type": "code",
   "execution_count": 72,
   "metadata": {},
   "outputs": [
    {
     "name": "stdout",
     "output_type": "stream",
     "text": [
      "[11, ['apers', 'asper', 'pares', 'parse', 'pears', 'prase', 'presa', 'rapes', 'reaps', 'spare', 'spear']]\n",
      "[11, ['alerts', 'alters', 'artels', 'estral', 'laster', 'ratels', 'salter', 'slater', 'staler', 'stelar', 'talers']]\n",
      "[10, ['least', 'setal', 'slate', 'stale', 'steal', 'stela', 'taels', 'tales', 'teals', 'tesla']]\n",
      "[9, ['estrin', 'inerts', 'insert', 'inters', 'niters', 'nitres', 'sinter', 'triens', 'trines']]\n",
      "[9, ['capers', 'crapes', 'escarp', 'pacers', 'parsec', 'recaps', 'scrape', 'secpar', 'spacer']]\n",
      "[8, ['peris', 'piers', 'pries', 'prise', 'ripes', 'speir', 'spier', 'spire']]\n",
      "[8, ['palest', 'palets', 'pastel', 'petals', 'plates', 'pleats', 'septal', 'staple']]\n",
      "[8, ['lapse', 'leaps', 'pales', 'peals', 'pleas', 'salep', 'sepal', 'spale']]\n",
      "[8, ['earings', 'erasing', 'gainers', 'reagins', 'regains', 'reginas', 'searing', 'seringa']]\n",
      "[8, ['carets', 'cartes', 'caster', 'caters', 'crates', 'reacts', 'recast', 'traces']]\n",
      "CPU times: user 542 ms, sys: 10.9 ms, total: 553 ms\n",
      "Wall time: 557 ms\n"
     ]
    }
   ],
   "source": [
    "%%time\n",
    "# Load our dictionary and use it.\n",
    "words = build_dict()\n",
    "results = find_all_anagram(words)"
   ]
  },
  {
   "cell_type": "code",
   "execution_count": null,
   "metadata": {
    "collapsed": true
   },
   "outputs": [],
   "source": []
  },
  {
   "cell_type": "code",
   "execution_count": null,
   "metadata": {
    "collapsed": true
   },
   "outputs": [],
   "source": []
  },
  {
   "cell_type": "code",
   "execution_count": null,
   "metadata": {
    "collapsed": true
   },
   "outputs": [],
   "source": []
  },
  {
   "cell_type": "code",
   "execution_count": null,
   "metadata": {
    "collapsed": true
   },
   "outputs": [],
   "source": []
  }
 ],
 "metadata": {
  "kernelspec": {
   "display_name": "Python 3",
   "language": "python",
   "name": "python3"
  },
  "language_info": {
   "codemirror_mode": {
    "name": "ipython",
    "version": 3
   },
   "file_extension": ".py",
   "mimetype": "text/x-python",
   "name": "python",
   "nbconvert_exporter": "python",
   "pygments_lexer": "ipython3",
   "version": "3.6.1"
  }
 },
 "nbformat": 4,
 "nbformat_minor": 2
}
