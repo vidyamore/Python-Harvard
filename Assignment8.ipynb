{
 "cells": [
  {
   "cell_type": "code",
   "execution_count": null,
   "metadata": {
    "collapsed": true
   },
   "outputs": [],
   "source": [
    "%%time\n",
    "# Assignment8\n",
    "# Total pair of words 488\n",
    "# 13th pair of word is ['airts', 'stria']\n",
    "# This program produces a sorted list of all pairs of words from our \n",
    "# dictionary that are reverses of each other. \n",
    "#\n",
    "# modified by: Vidya More\n",
    "# July , 2017\n",
    "#\n",
    "\n",
    "# Build a dictionary of all words\n",
    "def build_dict():\n",
    "    with open('words.txt') as my_file:\n",
    "        words = {} # initialize a dictionary \n",
    "        for word in my_file:\n",
    "            word = word.strip()\n",
    "            if (word in words): # add words to the dictionary \n",
    "                words[word] = words[word] + 1\n",
    "            else:\n",
    "                words[word] = 1\n",
    "   \n",
    "    return words\n",
    "# this function checks if the reverse word is in the dictionary \n",
    "def isreversewordindict(word,reverseword, words):    \n",
    "    if (reverseword in words):\n",
    "        return [word, reverseword]\n",
    "    return None\n",
    "\n",
    "# this function checks all the pair of reverse words\n",
    "def find_all_words():\n",
    "    words = build_dict()\n",
    "    res = []  #create a list to store all the pair of words\n",
    "    reversewordlist = [] #create a list to store reverse words\n",
    "    for w in words:\n",
    "        reverseword  = w[::-1]\n",
    "        if w not in reversewordlist: #check in the reverse words list to make sure we are not adding duplicates\n",
    "            newwordtoadd = isreversewordindict(w,reverseword, words) #if not already exists then check for reverse word pair in the dictionary \n",
    "            # newwordtoadd will be None or a word\n",
    "            if (newwordtoadd ): #if newwordtoadd is not none then add to to final pair of list \n",
    "                res.append(newwordtoadd)\n",
    "                print (newwordtoadd)\n",
    "                reversewordlist.append(reverseword) #add reverseword to list to check the duplicate next time                \n",
    "    return res\n",
    "\n",
    "find_all_words()"
   ]
  },
  {
   "cell_type": "code",
   "execution_count": null,
   "metadata": {},
   "outputs": [],
   "source": [
    "!python3 Assignment8.py"
   ]
  },
  {
   "cell_type": "code",
   "execution_count": null,
   "metadata": {
    "collapsed": true
   },
   "outputs": [],
   "source": []
  }
 ],
 "metadata": {
  "kernelspec": {
   "display_name": "Python 3",
   "language": "python",
   "name": "python3"
  },
  "language_info": {
   "codemirror_mode": {
    "name": "ipython",
    "version": 3
   },
   "file_extension": ".py",
   "mimetype": "text/x-python",
   "name": "python",
   "nbconvert_exporter": "python",
   "pygments_lexer": "ipython3",
   "version": "3.6.1"
  }
 },
 "nbformat": 4,
 "nbformat_minor": 2
}
